{
 "cells": [
  {
   "cell_type": "code",
   "execution_count": 2,
   "id": "6d8551c8",
   "metadata": {},
   "outputs": [],
   "source": [
    "import pandas as pd\n",
    "import numpy as np\n",
    "import scipy\n",
    "import datetime\n",
    "import numexpr\n",
    "import operator\n",
    "import matplotlib.pyplot as plt\n",
    "import matplotlib.ticker as ticker\n",
    "import seaborn as sns\n",
    "from statsmodels.tsa.seasonal import seasonal_decompose \n",
    "from sklearn.metrics import mean_squared_error, r2_score\n",
    "from math import * "
   ]
  },
  {
   "cell_type": "code",
   "execution_count": 3,
   "id": "291578e1",
   "metadata": {},
   "outputs": [
    {
     "data": {
      "text/html": [
       "<div>\n",
       "<style scoped>\n",
       "    .dataframe tbody tr th:only-of-type {\n",
       "        vertical-align: middle;\n",
       "    }\n",
       "\n",
       "    .dataframe tbody tr th {\n",
       "        vertical-align: top;\n",
       "    }\n",
       "\n",
       "    .dataframe thead th {\n",
       "        text-align: right;\n",
       "    }\n",
       "</style>\n",
       "<table border=\"1\" class=\"dataframe\">\n",
       "  <thead>\n",
       "    <tr style=\"text-align: right;\">\n",
       "      <th></th>\n",
       "      <th>Unnamed: 0</th>\n",
       "      <th>Datetime</th>\n",
       "      <th>Sensor</th>\n",
       "      <th>State</th>\n",
       "      <th>Activity</th>\n",
       "      <th>Note</th>\n",
       "    </tr>\n",
       "  </thead>\n",
       "  <tbody>\n",
       "    <tr>\n",
       "      <th>0</th>\n",
       "      <td>0</td>\n",
       "      <td>2009-02-02 11:41:34</td>\n",
       "      <td>M07</td>\n",
       "      <td>ON</td>\n",
       "      <td>Watch_TV</td>\n",
       "      <td>begin</td>\n",
       "    </tr>\n",
       "    <tr>\n",
       "      <th>1</th>\n",
       "      <td>1</td>\n",
       "      <td>2009-02-02 12:31:02</td>\n",
       "      <td>M23</td>\n",
       "      <td>ON</td>\n",
       "      <td>Watch_TV</td>\n",
       "      <td>end</td>\n",
       "    </tr>\n",
       "    <tr>\n",
       "      <th>2</th>\n",
       "      <td>2</td>\n",
       "      <td>2009-02-03 18:01:23</td>\n",
       "      <td>M08</td>\n",
       "      <td>ON</td>\n",
       "      <td>Watch_TV</td>\n",
       "      <td>begin</td>\n",
       "    </tr>\n",
       "    <tr>\n",
       "      <th>3</th>\n",
       "      <td>3</td>\n",
       "      <td>2009-02-03 19:10:23</td>\n",
       "      <td>M07</td>\n",
       "      <td>ON</td>\n",
       "      <td>Watch_TV</td>\n",
       "      <td>end</td>\n",
       "    </tr>\n",
       "    <tr>\n",
       "      <th>4</th>\n",
       "      <td>4</td>\n",
       "      <td>2009-02-04 17:15:29</td>\n",
       "      <td>M08</td>\n",
       "      <td>ON</td>\n",
       "      <td>Watch_TV</td>\n",
       "      <td>begin</td>\n",
       "    </tr>\n",
       "    <tr>\n",
       "      <th>...</th>\n",
       "      <td>...</td>\n",
       "      <td>...</td>\n",
       "      <td>...</td>\n",
       "      <td>...</td>\n",
       "      <td>...</td>\n",
       "      <td>...</td>\n",
       "    </tr>\n",
       "    <tr>\n",
       "      <th>57</th>\n",
       "      <td>57</td>\n",
       "      <td>2009-04-02 13:04:07</td>\n",
       "      <td>M08</td>\n",
       "      <td>OFF</td>\n",
       "      <td>Watch_TV</td>\n",
       "      <td>end</td>\n",
       "    </tr>\n",
       "    <tr>\n",
       "      <th>58</th>\n",
       "      <td>58</td>\n",
       "      <td>2009-04-03 10:58:52</td>\n",
       "      <td>M07</td>\n",
       "      <td>ON</td>\n",
       "      <td>Watch_TV</td>\n",
       "      <td>begin</td>\n",
       "    </tr>\n",
       "    <tr>\n",
       "      <th>59</th>\n",
       "      <td>59</td>\n",
       "      <td>2009-04-03 11:27:07</td>\n",
       "      <td>M02</td>\n",
       "      <td>OFF</td>\n",
       "      <td>Watch_TV</td>\n",
       "      <td>end</td>\n",
       "    </tr>\n",
       "    <tr>\n",
       "      <th>60</th>\n",
       "      <td>60</td>\n",
       "      <td>2009-04-03 12:20:04</td>\n",
       "      <td>M04</td>\n",
       "      <td>ON</td>\n",
       "      <td>Watch_TV</td>\n",
       "      <td>begin</td>\n",
       "    </tr>\n",
       "    <tr>\n",
       "      <th>61</th>\n",
       "      <td>61</td>\n",
       "      <td>2009-04-03 12:32:24</td>\n",
       "      <td>M08</td>\n",
       "      <td>OFF</td>\n",
       "      <td>Watch_TV</td>\n",
       "      <td>end</td>\n",
       "    </tr>\n",
       "  </tbody>\n",
       "</table>\n",
       "<p>62 rows × 6 columns</p>\n",
       "</div>"
      ],
      "text/plain": [
       "    Unnamed: 0             Datetime Sensor State  Activity   Note\n",
       "0            0  2009-02-02 11:41:34    M07    ON  Watch_TV  begin\n",
       "1            1  2009-02-02 12:31:02    M23    ON  Watch_TV    end\n",
       "2            2  2009-02-03 18:01:23    M08    ON  Watch_TV  begin\n",
       "3            3  2009-02-03 19:10:23    M07    ON  Watch_TV    end\n",
       "4            4  2009-02-04 17:15:29    M08    ON  Watch_TV  begin\n",
       "..         ...                  ...    ...   ...       ...    ...\n",
       "57          57  2009-04-02 13:04:07    M08   OFF  Watch_TV    end\n",
       "58          58  2009-04-03 10:58:52    M07    ON  Watch_TV  begin\n",
       "59          59  2009-04-03 11:27:07    M02   OFF  Watch_TV    end\n",
       "60          60  2009-04-03 12:20:04    M04    ON  Watch_TV  begin\n",
       "61          61  2009-04-03 12:32:24    M08   OFF  Watch_TV    end\n",
       "\n",
       "[62 rows x 6 columns]"
      ]
     },
     "execution_count": 3,
     "metadata": {},
     "output_type": "execute_result"
    }
   ],
   "source": [
    "watch_tv=pd.read_csv('data/watch_tv.csv')\n",
    "watch_tv"
   ]
  },
  {
   "cell_type": "code",
   "execution_count": 4,
   "id": "05740c52",
   "metadata": {},
   "outputs": [],
   "source": [
    "R1_work=pd.read_csv('data/R1work_data1.csv')\n",
    "R1_sleep=pd.read_csv('data/R1_sleep_data.csv')"
   ]
  },
  {
   "cell_type": "code",
   "execution_count": 5,
   "id": "3142c406",
   "metadata": {},
   "outputs": [],
   "source": [
    "list1=[]\n",
    "list2=[]\n",
    "for i in range(0,len(watch_tv)):\n",
    "    if(i%2==1):\n",
    "        for j in range(0,len(R1_work),2):\n",
    "            if watch_tv.loc[i]['Datetime'][0:10] ==  R1_work.loc[j]['Datetime'][0:10]:\n",
    "                hour1 = abs(datetime.datetime.strptime(R1_work.loc[j]['Datetime'],'%Y-%m-%d %H:%M:%S')-datetime.datetime.strptime(watch_tv.loc[i]['Datetime'],'%Y-%m-%d %H:%M:%S'))\n",
    "                if hour1 <= datetime.timedelta(seconds=1800) and hour1 >= datetime.timedelta(seconds=60):\n",
    "                    list1.append(hour1)\n",
    "    if(i%2==0):\n",
    "        for k in range(1,len(R1_work),2):\n",
    "            if watch_tv.loc[i]['Datetime'][0:10] ==  R1_work.loc[k]['Datetime'][0:10]:\n",
    "                hour2 = abs(datetime.datetime.strptime(R1_work.loc[k]['Datetime'],'%Y-%m-%d %H:%M:%S')-datetime.datetime.strptime(watch_tv.loc[i]['Datetime'],'%Y-%m-%d %H:%M:%S'))\n",
    "                if hour2 <= datetime.timedelta(seconds=1800) and hour2 >= datetime.timedelta(seconds=60):\n",
    "                    list2.append(hour2)\n",
    "    "
   ]
  },
  {
   "cell_type": "code",
   "execution_count": 6,
   "id": "b2fe03e9",
   "metadata": {},
   "outputs": [
    {
     "data": {
      "text/plain": [
       "[datetime.timedelta(seconds=891),\n",
       " datetime.timedelta(seconds=560),\n",
       " datetime.timedelta(seconds=238),\n",
       " datetime.timedelta(seconds=102)]"
      ]
     },
     "execution_count": 6,
     "metadata": {},
     "output_type": "execute_result"
    }
   ],
   "source": [
    "list1"
   ]
  },
  {
   "cell_type": "code",
   "execution_count": 7,
   "id": "5d4f894e",
   "metadata": {},
   "outputs": [
    {
     "data": {
      "text/plain": [
       "[]"
      ]
     },
     "execution_count": 7,
     "metadata": {},
     "output_type": "execute_result"
    }
   ],
   "source": [
    "list2"
   ]
  },
  {
   "cell_type": "code",
   "execution_count": 8,
   "id": "c3084d95",
   "metadata": {},
   "outputs": [],
   "source": [
    "list3=[]\n",
    "list4=[]\n",
    "for i in range(0,len(watch_tv)):\n",
    "    if(i%2==1):\n",
    "        for j in range(0,len(R1_sleep),2):\n",
    "            if watch_tv.loc[i]['Datetime'][0:10] ==  R1_sleep.loc[j]['Datetime'][0:10]:\n",
    "                hour3 = abs(datetime.datetime.strptime(R1_sleep.loc[j]['Datetime'],'%Y-%m-%d %H:%M:%S')-datetime.datetime.strptime(watch_tv.loc[i]['Datetime'],'%Y-%m-%d %H:%M:%S'))\n",
    "                if hour3 <= datetime.timedelta(seconds=1800) and hour3 >= datetime.timedelta(seconds=60):\n",
    "                    list3.append(hour3)\n",
    "    if(i%2==0):\n",
    "        for k in range(1,len(R1_sleep),2):\n",
    "            if watch_tv.loc[i]['Datetime'][0:10] ==  R1_sleep.loc[k]['Datetime'][0:10]:\n",
    "                hour4 = abs(datetime.datetime.strptime(R1_sleep.loc[k]['Datetime'],'%Y-%m-%d %H:%M:%S')-datetime.datetime.strptime(watch_tv.loc[i]['Datetime'],'%Y-%m-%d %H:%M:%S'))\n",
    "                if hour4 <= datetime.timedelta(seconds=1800) and hour4 >= datetime.timedelta(seconds=60):\n",
    "                    list4.append(hour4)    "
   ]
  },
  {
   "cell_type": "code",
   "execution_count": 9,
   "id": "6a2c49f4",
   "metadata": {},
   "outputs": [
    {
     "data": {
      "text/plain": [
       "[]"
      ]
     },
     "execution_count": 9,
     "metadata": {},
     "output_type": "execute_result"
    }
   ],
   "source": [
    "R1_heal=pd.read_csv('data/R1_heal.csv')  \n",
    "Meal=pd.read_csv('data/meal.csv')\n",
    "list3"
   ]
  },
  {
   "cell_type": "code",
   "execution_count": 10,
   "id": "1a280e96",
   "metadata": {},
   "outputs": [
    {
     "data": {
      "text/plain": [
       "[]"
      ]
     },
     "execution_count": 10,
     "metadata": {},
     "output_type": "execute_result"
    }
   ],
   "source": [
    "list4"
   ]
  },
  {
   "cell_type": "code",
   "execution_count": 11,
   "id": "60d29c8b",
   "metadata": {},
   "outputs": [],
   "source": [
    "time1=[]\n",
    "#洗漱结束 做饭开始 做饭➖洗漱\n",
    "for i in range(0,len(R1_heal)):\n",
    "    if(i%2==1):\n",
    "        for j in range(0,len(Meal),2):\n",
    "            if R1_heal.loc[i]['Datetime'][0:10] ==  Meal.loc[j]['Datetime'][0:10]:\n",
    "                t1 = datetime.datetime.strptime(Meal.loc[j]['Datetime'],'%Y-%m-%d %H:%M:%S')-datetime.datetime.strptime(R1_heal.loc[i]['Datetime'],'%Y-%m-%d %H:%M:%S')\n",
    "                if t1 <= datetime.timedelta(seconds=1800) and t1 >= datetime.timedelta(seconds=60):\n",
    "                    time1.append(t1)"
   ]
  },
  {
   "cell_type": "code",
   "execution_count": 12,
   "id": "9ac54188",
   "metadata": {},
   "outputs": [
    {
     "data": {
      "text/plain": [
       "23"
      ]
     },
     "execution_count": 12,
     "metadata": {},
     "output_type": "execute_result"
    }
   ],
   "source": [
    "time1.sort()\n",
    "len(time1)"
   ]
  },
  {
   "cell_type": "code",
   "execution_count": 13,
   "id": "ae739ce6",
   "metadata": {},
   "outputs": [
    {
     "data": {
      "text/plain": [
       "[datetime.timedelta(seconds=167),\n",
       " datetime.timedelta(seconds=313),\n",
       " datetime.timedelta(seconds=327),\n",
       " datetime.timedelta(seconds=356),\n",
       " datetime.timedelta(seconds=397),\n",
       " datetime.timedelta(seconds=407),\n",
       " datetime.timedelta(seconds=412),\n",
       " datetime.timedelta(seconds=416),\n",
       " datetime.timedelta(seconds=440),\n",
       " datetime.timedelta(seconds=473),\n",
       " datetime.timedelta(seconds=475),\n",
       " datetime.timedelta(seconds=498),\n",
       " datetime.timedelta(seconds=525),\n",
       " datetime.timedelta(seconds=588),\n",
       " datetime.timedelta(seconds=599),\n",
       " datetime.timedelta(seconds=667),\n",
       " datetime.timedelta(seconds=684),\n",
       " datetime.timedelta(seconds=716),\n",
       " datetime.timedelta(seconds=807),\n",
       " datetime.timedelta(seconds=849),\n",
       " datetime.timedelta(seconds=1197),\n",
       " datetime.timedelta(seconds=1261),\n",
       " datetime.timedelta(seconds=1527)]"
      ]
     },
     "execution_count": 13,
     "metadata": {},
     "output_type": "execute_result"
    }
   ],
   "source": [
    "time1"
   ]
  },
  {
   "cell_type": "code",
   "execution_count": 14,
   "id": "5c9def62",
   "metadata": {},
   "outputs": [],
   "source": [
    "time2=[]\n",
    "for i in range(0,len(Meal)):\n",
    "     if(i%2==1):#做饭结束 开始工作\n",
    "        for j in range(0,len(R1_work),2):\n",
    "            if Meal.loc[i]['Datetime'][0:10] ==  R1_work.loc[j]['Datetime'][0:10]:\n",
    "                t2 = datetime.datetime.strptime(R1_work.loc[j]['Datetime'],'%Y-%m-%d %H:%M:%S')-datetime.datetime.strptime(Meal.loc[i]['Datetime'],'%Y-%m-%d %H:%M:%S')\n",
    "                if t2 <= datetime.timedelta(seconds=1800) and t2 >= datetime.timedelta(seconds=60):\n",
    "                    time2.append(t2)"
   ]
  },
  {
   "cell_type": "code",
   "execution_count": 15,
   "id": "9ab82b9a",
   "metadata": {},
   "outputs": [
    {
     "data": {
      "text/plain": [
       "[datetime.timedelta(seconds=202),\n",
       " datetime.timedelta(seconds=508),\n",
       " datetime.timedelta(seconds=1679),\n",
       " datetime.timedelta(seconds=1768),\n",
       " datetime.timedelta(seconds=833),\n",
       " datetime.timedelta(seconds=136),\n",
       " datetime.timedelta(seconds=572),\n",
       " datetime.timedelta(seconds=1480),\n",
       " datetime.timedelta(seconds=674),\n",
       " datetime.timedelta(seconds=701),\n",
       " datetime.timedelta(seconds=479),\n",
       " datetime.timedelta(seconds=257),\n",
       " datetime.timedelta(seconds=143)]"
      ]
     },
     "execution_count": 15,
     "metadata": {},
     "output_type": "execute_result"
    }
   ],
   "source": [
    "time2"
   ]
  },
  {
   "cell_type": "code",
   "execution_count": 16,
   "id": "0d21998e",
   "metadata": {},
   "outputs": [],
   "source": [
    "time3=[]\n",
    "for i in range(0,len(Meal)):\n",
    "    if(i%2==0):#做饭开始 工作结束\n",
    "        for j in range(1,len(R1_work),2):\n",
    "            if Meal.loc[i]['Datetime'][0:10] ==  R1_work.loc[j]['Datetime'][0:10]:\n",
    "                t3 = datetime.datetime.strptime(Meal.loc[i]['Datetime'],'%Y-%m-%d %H:%M:%S')-datetime.datetime.strptime(R1_work.loc[j]['Datetime'],'%Y-%m-%d %H:%M:%S')\n",
    "                if t3 <= datetime.timedelta(seconds=1800) and t3 >= datetime.timedelta(seconds=60):\n",
    "                    time3.append(t3)"
   ]
  },
  {
   "cell_type": "code",
   "execution_count": 17,
   "id": "c37d8d69",
   "metadata": {},
   "outputs": [
    {
     "data": {
      "text/plain": [
       "[datetime.timedelta(seconds=597),\n",
       " datetime.timedelta(seconds=782),\n",
       " datetime.timedelta(seconds=61),\n",
       " datetime.timedelta(seconds=182),\n",
       " datetime.timedelta(seconds=317),\n",
       " datetime.timedelta(seconds=217),\n",
       " datetime.timedelta(seconds=381),\n",
       " datetime.timedelta(seconds=980),\n",
       " datetime.timedelta(seconds=84),\n",
       " datetime.timedelta(seconds=768),\n",
       " datetime.timedelta(seconds=1397),\n",
       " datetime.timedelta(seconds=666)]"
      ]
     },
     "execution_count": 17,
     "metadata": {},
     "output_type": "execute_result"
    }
   ],
   "source": [
    "time3"
   ]
  },
  {
   "cell_type": "code",
   "execution_count": 18,
   "id": "9c740337",
   "metadata": {},
   "outputs": [
    {
     "data": {
      "text/plain": [
       "13"
      ]
     },
     "execution_count": 18,
     "metadata": {},
     "output_type": "execute_result"
    }
   ],
   "source": [
    "time2.sort()\n",
    "len(time2)"
   ]
  },
  {
   "cell_type": "code",
   "execution_count": 19,
   "id": "a8f4f0a2",
   "metadata": {},
   "outputs": [
    {
     "data": {
      "text/plain": [
       "[datetime.timedelta(seconds=61),\n",
       " datetime.timedelta(seconds=84),\n",
       " datetime.timedelta(seconds=182),\n",
       " datetime.timedelta(seconds=217),\n",
       " datetime.timedelta(seconds=317),\n",
       " datetime.timedelta(seconds=381),\n",
       " datetime.timedelta(seconds=597),\n",
       " datetime.timedelta(seconds=666),\n",
       " datetime.timedelta(seconds=768),\n",
       " datetime.timedelta(seconds=782),\n",
       " datetime.timedelta(seconds=980),\n",
       " datetime.timedelta(seconds=1397)]"
      ]
     },
     "execution_count": 19,
     "metadata": {},
     "output_type": "execute_result"
    }
   ],
   "source": [
    "time3.sort()\n",
    "time3"
   ]
  },
  {
   "cell_type": "code",
   "execution_count": 20,
   "id": "be14cc46",
   "metadata": {},
   "outputs": [],
   "source": [
    "list=(list1+list2+list3+list4+time1+time2+time3)\n",
    "list.sort()\n"
   ]
  },
  {
   "cell_type": "code",
   "execution_count": 21,
   "id": "c8ddaed2",
   "metadata": {},
   "outputs": [
    {
     "data": {
      "text/plain": [
       "52"
      ]
     },
     "execution_count": 21,
     "metadata": {},
     "output_type": "execute_result"
    }
   ],
   "source": [
    "len(list)"
   ]
  },
  {
   "cell_type": "code",
   "execution_count": 22,
   "id": "2246f788",
   "metadata": {},
   "outputs": [
    {
     "data": {
      "image/png": "[encoded data removed]",
      "text/plain": [
       "<Figure size 432x288 with 1 Axes>"
      ]
     },
     "metadata": {
      "needs_background": "light"
     },
     "output_type": "display_data"
    }
   ],
   "source": [
    "dict1=pd.value_counts(list)   \n",
    "dict1=dict1.sort_index()\n",
    "dict1.plot(kind='bar')\n",
    "plt.title('xx')\n",
    "plt.show()"
   ]
  },
  {
   "cell_type": "code",
   "execution_count": 23,
   "id": "953bb4c3",
   "metadata": {},
   "outputs": [],
   "source": [
    "name = ['Costtime']\n",
    "test=pd.DataFrame(columns=name,data=list)\n",
    "test.to_csv('data/testcsv.csv',encoding='gbk')"
   ]
  },
  {
   "cell_type": "code",
   "execution_count": 24,
   "id": "c4aeac3f",
   "metadata": {},
   "outputs": [
    {
     "data": {
      "text/plain": [
       "Unnamed: 0    52\n",
       "Costtime      52\n",
       "dtype: int64"
      ]
     },
     "execution_count": 24,
     "metadata": {},
     "output_type": "execute_result"
    }
   ],
   "source": [
    "staTime=pd.read_csv('data/testcsv.csv') \n",
    "staTime.count()"
   ]
  },
  {
   "cell_type": "code",
   "execution_count": 25,
   "id": "d4d6a11e",
   "metadata": {},
   "outputs": [
    {
     "data": {
      "image/png": "[encoded data removed]",
      "text/plain": [
       "<Figure size 432x288 with 1 Axes>"
      ]
     },
     "metadata": {},
     "output_type": "display_data"
    }
   ],
   "source": [
    "scount=int(0)\n",
    "slist=[]\n",
    "for i in range(0,len(staTime)):\n",
    "    if int(staTime.loc[i]['Costtime'][10])==0 and int(staTime.loc[i]['Costtime'][11])<5:\n",
    "        scount=5\n",
    "    if int(staTime.loc[i]['Costtime'][10])==0 and int(staTime.loc[i]['Costtime'][11])>=5 and int(staTime.loc[i]['Costtime'][11])<=9:\n",
    "        scount=10;\n",
    "    if int(staTime.loc[i]['Costtime'][10])==1 and int(staTime.loc[i]['Costtime'][11])<5:\n",
    "        scount=15;\n",
    "    if int(staTime.loc[i]['Costtime'][10])==1 and int(staTime.loc[i]['Costtime'][11])>=5 and int(staTime.loc[i]['Costtime'][11])<=9:\n",
    "        scount=20;\n",
    "    if int(staTime.loc[i]['Costtime'][10])==2 and int(staTime.loc[i]['Costtime'][11])<5:\n",
    "        scount=25;\n",
    "    if int(staTime.loc[i]['Costtime'][10])==2 and int(staTime.loc[i]['Costtime'][11])>=5 and int(staTime.loc[i]['Costtime'][11])<=9:\n",
    "        scount=30\n",
    "    slist.append(scount)\n",
    "dict1=pd.value_counts(slist)   \n",
    "dict1=dict1.sort_index()\n",
    "plt.title('Cost of time for R1 going upstairs and downstairs/min')\n",
    "dict1.plot(kind='pie')\n",
    "plt.show()"
   ]
  },
  {
   "cell_type": "code",
   "execution_count": null,
   "id": "24d47a52",
   "metadata": {},
   "outputs": [],
   "source": []
  },
  {
   "cell_type": "code",
   "execution_count": null,
   "id": "4255bf13",
   "metadata": {},
   "outputs": [],
   "source": []
  },
  {
   "cell_type": "code",
   "execution_count": null,
   "id": "3594bae0",
   "metadata": {},
   "outputs": [],
   "source": []
  }
 ],
 "metadata": {
  "kernelspec": {
   "display_name": "Python 3",
   "language": "python",
   "name": "python3"
  },
  "language_info": {
   "codemirror_mode": {
    "name": "ipython",
    "version": 3
   },
   "file_extension": ".py",
   "mimetype": "text/x-python",
   "name": "python",
   "nbconvert_exporter": "python",
   "pygments_lexer": "ipython3",
   "version": "3.8.8"
  }
 },
 "nbformat": 4,
 "nbformat_minor": 5
}
