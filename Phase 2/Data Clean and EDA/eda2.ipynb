{
 "cells": [
  {
   "cell_type": "code",
   "execution_count": 1,
   "id": "8105b515-d835-4b17-b034-5f601a588cd5",
   "metadata": {},
   "outputs": [],
   "source": [
    "#This file is analyzed by EDA, mainly drawing the heat diagram of the relationship between activity and time.\n",
    "import pandas as pd\n",
    "import numpy as np\n",
    "import scipy\n",
    "import datetime\n",
    "import numexpr\n",
    "import matplotlib.pyplot as plt\n",
    "import matplotlib.ticker as ticker\n",
    "import seaborn as sns\n",
    "from statsmodels.tsa.seasonal import seasonal_decompose \n",
    "from sklearn.metrics import mean_squared_error, r2_score\n",
    "from math import * "
   ]
  },
  {
   "cell_type": "code",
   "execution_count": 2,
   "id": "c88bad0f-b96a-4645-bf88-53b6a9718344",
   "metadata": {},
   "outputs": [
    {
     "data": {
      "text/plain": [
       "[2, 0, 1, 6, 7, 2, 0, 7, 15, 20, 21, 10]"
      ]
     },
     "execution_count": 2,
     "metadata": {},
     "output_type": "execute_result"
    }
   ],
   "source": [
    "#Do time-sharing statistics, starting from r1.\n",
    "#Need an array to count the data every two hours, counting 12 elements, and use dichotomy.\n",
    "def count_activity(activity):\n",
    "    count=[0,0,0,0,0,0,0,0,0,0,0,0]\n",
    "    for i in range(0,len(activity)):\n",
    "        if(i%2==0):\n",
    "            hour= int(activity.loc[i]['Datetime'][11])*10+int(activity.loc[i]['Datetime'][12])  \n",
    "            #print(hour)\n",
    "            count[hour//2]=count[hour//2]+1\n",
    "        else:\n",
    "            hour1=int(activity.loc[i]['Datetime'][11])*10+int(activity.loc[i]['Datetime'][12])\n",
    "            #print(hour1,i)\n",
    "            hour2=int(activity.loc[i-1]['Datetime'][11])*10+int(activity.loc[i-1]['Datetime'][12])    \n",
    "            if(hour1>=hour2): #Not crossing the same day\n",
    "                timeslot=(hour1-hour2)//2\n",
    "                for j in range(1,timeslot+1):\n",
    "                   count[hour2//2+j]+=1\n",
    "            else: #After twelve o'clock in the evening.\n",
    "                timeslot=(hour1+24-hour2)//2\n",
    "                for j in range(1,timeslot+1):\n",
    "                   count[(hour2//2+j)%12]+=1\n",
    "            \n",
    "    return count\n",
    "R1_work=pd.read_csv('data/R1work_data1.csv')               \n",
    "R1_work_count= count_activity(R1_work)                 \n",
    "R1_work_count"
   ]
  },
  {
   "cell_type": "code",
   "execution_count": 3,
   "id": "2db6341b-04b2-48b1-a628-be8444a62460",
   "metadata": {},
   "outputs": [
    {
     "data": {
      "text/plain": [
       "[0, 0, 0, 2, 9, 4, 2, 4, 4, 5, 7, 12]"
      ]
     },
     "execution_count": 3,
     "metadata": {},
     "output_type": "execute_result"
    }
   ],
   "source": [
    "R2_work=pd.read_csv('data/R2work_data.csv') \n",
    "#R2_work.loc[70]['Datetime']\n",
    "R2_work_count= count_activity(R2_work)                 \n",
    "R2_work_count"
   ]
  },
  {
   "cell_type": "code",
   "execution_count": 4,
   "id": "13e3e688-09d2-42c5-b121-4cf0ab3003f4",
   "metadata": {},
   "outputs": [
    {
     "data": {
      "text/plain": [
       "[4, 4, 8, 19, 9, 2, 2, 0, 0, 2, 2, 8]"
      ]
     },
     "execution_count": 4,
     "metadata": {},
     "output_type": "execute_result"
    }
   ],
   "source": [
    "R1_Toilet=pd.read_csv('data/R1_Toilet.csv') \n",
    "R1_Toilet_count= count_activity(R1_Toilet)                 \n",
    "R1_Toilet_count"
   ]
  },
  {
   "cell_type": "code",
   "execution_count": 5,
   "id": "a2e7f1b9-b17f-447f-bbe7-f55515bdad0d",
   "metadata": {},
   "outputs": [
    {
     "data": {
      "text/plain": [
       "[1, 2, 1, 23, 11, 0, 0, 0, 0, 0, 0, 1]"
      ]
     },
     "execution_count": 5,
     "metadata": {},
     "output_type": "execute_result"
    }
   ],
   "source": [
    "R2_Toilet=pd.read_csv('data/R2_Toilet.csv') \n",
    "R2_Toilet_count= count_activity(R2_Toilet)                 \n",
    "R2_Toilet_count"
   ]
  },
  {
   "cell_type": "code",
   "execution_count": 6,
   "id": "71981cef-64e8-4376-806f-6aee6c2b5af6",
   "metadata": {},
   "outputs": [
    {
     "data": {
      "text/plain": [
       "[35, 35, 35, 30, 6, 0, 0, 0, 0, 0, 9, 31]"
      ]
     },
     "execution_count": 6,
     "metadata": {},
     "output_type": "execute_result"
    }
   ],
   "source": [
    "R1_sleep=pd.read_csv('data/R1_sleep_data.csv') \n",
    "R1_sleep_count= count_activity(R1_sleep)                 \n",
    "R1_sleep_count"
   ]
  },
  {
   "cell_type": "code",
   "execution_count": 7,
   "id": "9f8fbfa4-a6fb-4c3f-ab14-1e3b5c8f32d8",
   "metadata": {},
   "outputs": [
    {
     "data": {
      "text/plain": [
       "[33, 34, 34, 31, 4, 0, 0, 0, 0, 1, 9, 31]"
      ]
     },
     "execution_count": 7,
     "metadata": {},
     "output_type": "execute_result"
    }
   ],
   "source": [
    "R2_sleep=pd.read_csv('data/R2_sleep_data.csv') \n",
    "R2_sleep_count= count_activity(R2_sleep)                 \n",
    "R2_sleep_count"
   ]
  },
  {
   "cell_type": "code",
   "execution_count": 8,
   "id": "8ea159ef-3192-400b-9646-52383ae0d537",
   "metadata": {},
   "outputs": [
    {
     "data": {
      "text/plain": [
       "[0, 0, 0, 0, 3, 5, 5, 4, 8, 13, 7, 3]"
      ]
     },
     "execution_count": 8,
     "metadata": {},
     "output_type": "execute_result"
    }
   ],
   "source": [
    "Watch_TV=pd.read_csv('data/Watch_tv.csv') \n",
    "Watch_TV_count= count_activity(Watch_TV)                 \n",
    "Watch_TV_count"
   ]
  },
  {
   "cell_type": "code",
   "execution_count": 9,
   "id": "861b2135-b092-4f43-b696-7c9d5327684c",
   "metadata": {},
   "outputs": [
    {
     "data": {
      "text/plain": [
       "[0, 0, 0, 14, 43, 18, 16, 5, 18, 18, 6, 2]"
      ]
     },
     "execution_count": 9,
     "metadata": {},
     "output_type": "execute_result"
    }
   ],
   "source": [
    "Meal=pd.read_csv('data/meal.csv') \n",
    "#R2_work.loc[70]['Datetime']\n",
    "Meal_count= count_activity(Meal)                 \n",
    "Meal_count"
   ]
  },
  {
   "cell_type": "code",
   "execution_count": 10,
   "id": "f7310830-1dc3-4a53-b193-3aa589032e67",
   "metadata": {},
   "outputs": [
    {
     "data": {
      "text/plain": [
       "[0, 0, 1, 18, 17, 1, 1, 0, 1, 2, 3, 1]"
      ]
     },
     "execution_count": 10,
     "metadata": {},
     "output_type": "execute_result"
    }
   ],
   "source": [
    "R1_heal=pd.read_csv('data/R1_heal.csv') \n",
    "#R2_work.loc[70]['Datetime']\n",
    "R1_heal_count= count_activity(R1_heal)                 \n",
    "R1_heal_count"
   ]
  },
  {
   "cell_type": "code",
   "execution_count": 11,
   "id": "b2a3160a-1b92-4886-9f96-ddf6692f36a0",
   "metadata": {},
   "outputs": [
    {
     "data": {
      "text/plain": [
       "[0, 0, 0, 15, 12, 5, 1, 0, 2, 1, 0, 3]"
      ]
     },
     "execution_count": 11,
     "metadata": {},
     "output_type": "execute_result"
    }
   ],
   "source": [
    "R2_heal=pd.read_csv('data/R2_heal.csv') \n",
    "#R2_work.loc[70]['Datetime']\n",
    "R2_heal_count= count_activity(R2_heal)                 \n",
    "R2_heal_count"
   ]
  },
  {
   "cell_type": "code",
   "execution_count": 21,
   "id": "287157e9-97cc-422b-9add-6d902b460087",
   "metadata": {},
   "outputs": [],
   "source": [
    "columns = ['R1_work', 'R2_work', 'R1_sleep', 'R2_sleep', 'R1_Toilet','R2_Toilet','R1_hygiene','R2_hygiene','Watch_TV','Meal']"
   ]
  },
  {
   "cell_type": "code",
   "execution_count": 22,
   "id": "b72e19d4-b971-489a-a37a-3d4b24ed6482",
   "metadata": {},
   "outputs": [
    {
     "data": {
      "text/html": [
       "<div>\n",
       "<style scoped>\n",
       "    .dataframe tbody tr th:only-of-type {\n",
       "        vertical-align: middle;\n",
       "    }\n",
       "\n",
       "    .dataframe tbody tr th {\n",
       "        vertical-align: top;\n",
       "    }\n",
       "\n",
       "    .dataframe thead th {\n",
       "        text-align: right;\n",
       "    }\n",
       "</style>\n",
       "<table border=\"1\" class=\"dataframe\">\n",
       "  <thead>\n",
       "    <tr style=\"text-align: right;\">\n",
       "      <th></th>\n",
       "      <th>R1_work</th>\n",
       "      <th>R2_work</th>\n",
       "      <th>R1_sleep</th>\n",
       "      <th>R2_sleep</th>\n",
       "      <th>R1_Toilet</th>\n",
       "      <th>R2_Toilet</th>\n",
       "      <th>R1_hygiene</th>\n",
       "      <th>R2_hygiene</th>\n",
       "      <th>Watch_TV</th>\n",
       "      <th>Meal</th>\n",
       "    </tr>\n",
       "  </thead>\n",
       "  <tbody>\n",
       "    <tr>\n",
       "      <th>0-1</th>\n",
       "      <td>2</td>\n",
       "      <td>0</td>\n",
       "      <td>35</td>\n",
       "      <td>33</td>\n",
       "      <td>4</td>\n",
       "      <td>1</td>\n",
       "      <td>0</td>\n",
       "      <td>0</td>\n",
       "      <td>0</td>\n",
       "      <td>0</td>\n",
       "    </tr>\n",
       "    <tr>\n",
       "      <th>2-3</th>\n",
       "      <td>0</td>\n",
       "      <td>0</td>\n",
       "      <td>35</td>\n",
       "      <td>34</td>\n",
       "      <td>4</td>\n",
       "      <td>2</td>\n",
       "      <td>0</td>\n",
       "      <td>0</td>\n",
       "      <td>0</td>\n",
       "      <td>0</td>\n",
       "    </tr>\n",
       "    <tr>\n",
       "      <th>4-5</th>\n",
       "      <td>1</td>\n",
       "      <td>0</td>\n",
       "      <td>35</td>\n",
       "      <td>34</td>\n",
       "      <td>8</td>\n",
       "      <td>1</td>\n",
       "      <td>1</td>\n",
       "      <td>0</td>\n",
       "      <td>0</td>\n",
       "      <td>0</td>\n",
       "    </tr>\n",
       "    <tr>\n",
       "      <th>6-7</th>\n",
       "      <td>6</td>\n",
       "      <td>2</td>\n",
       "      <td>30</td>\n",
       "      <td>31</td>\n",
       "      <td>19</td>\n",
       "      <td>23</td>\n",
       "      <td>18</td>\n",
       "      <td>15</td>\n",
       "      <td>0</td>\n",
       "      <td>14</td>\n",
       "    </tr>\n",
       "    <tr>\n",
       "      <th>8-9</th>\n",
       "      <td>7</td>\n",
       "      <td>9</td>\n",
       "      <td>6</td>\n",
       "      <td>4</td>\n",
       "      <td>9</td>\n",
       "      <td>11</td>\n",
       "      <td>17</td>\n",
       "      <td>12</td>\n",
       "      <td>3</td>\n",
       "      <td>43</td>\n",
       "    </tr>\n",
       "    <tr>\n",
       "      <th>10-11</th>\n",
       "      <td>2</td>\n",
       "      <td>4</td>\n",
       "      <td>0</td>\n",
       "      <td>0</td>\n",
       "      <td>2</td>\n",
       "      <td>0</td>\n",
       "      <td>1</td>\n",
       "      <td>5</td>\n",
       "      <td>5</td>\n",
       "      <td>18</td>\n",
       "    </tr>\n",
       "    <tr>\n",
       "      <th>12-13</th>\n",
       "      <td>0</td>\n",
       "      <td>2</td>\n",
       "      <td>0</td>\n",
       "      <td>0</td>\n",
       "      <td>2</td>\n",
       "      <td>0</td>\n",
       "      <td>1</td>\n",
       "      <td>1</td>\n",
       "      <td>5</td>\n",
       "      <td>16</td>\n",
       "    </tr>\n",
       "    <tr>\n",
       "      <th>14-15</th>\n",
       "      <td>7</td>\n",
       "      <td>4</td>\n",
       "      <td>0</td>\n",
       "      <td>0</td>\n",
       "      <td>0</td>\n",
       "      <td>0</td>\n",
       "      <td>0</td>\n",
       "      <td>0</td>\n",
       "      <td>4</td>\n",
       "      <td>5</td>\n",
       "    </tr>\n",
       "    <tr>\n",
       "      <th>16-17</th>\n",
       "      <td>15</td>\n",
       "      <td>4</td>\n",
       "      <td>0</td>\n",
       "      <td>0</td>\n",
       "      <td>0</td>\n",
       "      <td>0</td>\n",
       "      <td>1</td>\n",
       "      <td>2</td>\n",
       "      <td>8</td>\n",
       "      <td>18</td>\n",
       "    </tr>\n",
       "    <tr>\n",
       "      <th>18-19</th>\n",
       "      <td>20</td>\n",
       "      <td>5</td>\n",
       "      <td>0</td>\n",
       "      <td>1</td>\n",
       "      <td>2</td>\n",
       "      <td>0</td>\n",
       "      <td>2</td>\n",
       "      <td>1</td>\n",
       "      <td>13</td>\n",
       "      <td>18</td>\n",
       "    </tr>\n",
       "    <tr>\n",
       "      <th>20-21</th>\n",
       "      <td>21</td>\n",
       "      <td>7</td>\n",
       "      <td>9</td>\n",
       "      <td>9</td>\n",
       "      <td>2</td>\n",
       "      <td>0</td>\n",
       "      <td>3</td>\n",
       "      <td>0</td>\n",
       "      <td>7</td>\n",
       "      <td>6</td>\n",
       "    </tr>\n",
       "    <tr>\n",
       "      <th>22-23</th>\n",
       "      <td>10</td>\n",
       "      <td>12</td>\n",
       "      <td>31</td>\n",
       "      <td>31</td>\n",
       "      <td>8</td>\n",
       "      <td>1</td>\n",
       "      <td>1</td>\n",
       "      <td>3</td>\n",
       "      <td>3</td>\n",
       "      <td>2</td>\n",
       "    </tr>\n",
       "  </tbody>\n",
       "</table>\n",
       "</div>"
      ],
      "text/plain": [
       "       R1_work  R2_work  R1_sleep  R2_sleep  R1_Toilet  R2_Toilet  R1_hygiene  \\\n",
       "0-1          2        0        35        33          4          1           0   \n",
       "2-3          0        0        35        34          4          2           0   \n",
       "4-5          1        0        35        34          8          1           1   \n",
       "6-7          6        2        30        31         19         23          18   \n",
       "8-9          7        9         6         4          9         11          17   \n",
       "10-11        2        4         0         0          2          0           1   \n",
       "12-13        0        2         0         0          2          0           1   \n",
       "14-15        7        4         0         0          0          0           0   \n",
       "16-17       15        4         0         0          0          0           1   \n",
       "18-19       20        5         0         1          2          0           2   \n",
       "20-21       21        7         9         9          2          0           3   \n",
       "22-23       10       12        31        31          8          1           1   \n",
       "\n",
       "       R2_hygiene  Watch_TV  Meal  \n",
       "0-1             0         0     0  \n",
       "2-3             0         0     0  \n",
       "4-5             0         0     0  \n",
       "6-7            15         0    14  \n",
       "8-9            12         3    43  \n",
       "10-11           5         5    18  \n",
       "12-13           1         5    16  \n",
       "14-15           0         4     5  \n",
       "16-17           2         8    18  \n",
       "18-19           1        13    18  \n",
       "20-21           0         7     6  \n",
       "22-23           3         3     2  "
      ]
     },
     "execution_count": 22,
     "metadata": {},
     "output_type": "execute_result"
    }
   ],
   "source": [
    "all_activity = pd.DataFrame(data={'R1_work': R1_work_count, 'R2_work': R2_work_count, 'R1_sleep': R1_sleep_count, 'R2_sleep': R2_sleep_count, 'R1_Toilet': R1_Toilet_count, 'R2_Toilet': R2_Toilet_count,'R1_hygiene':R1_heal_count, 'R2_hygiene':R2_heal_count, 'Watch_TV': Watch_TV_count,'Meal':Meal_count})\n",
    "all_activity.index=['0-1','2-3','4-5','6-7','8-9','10-11','12-13','14-15','16-17','18-19','20-21','22-23']\n",
    "all_activity"
   ]
  },
  {
   "cell_type": "code",
   "execution_count": 24,
   "id": "35fa11f2-74b2-4eb1-847c-5579fe651963",
   "metadata": {},
   "outputs": [],
   "source": [
    "all_activity=all_activity.T"
   ]
  },
  {
   "cell_type": "code",
   "execution_count": 27,
   "id": "9fe0f18d-4ea9-4bb8-b651-cd4345bf8321",
   "metadata": {},
   "outputs": [
    {
     "data": {
      "text/plain": [
       "Text(0.5, 1.0, 'Heatmap of activities and time slice')"
      ]
     },
     "execution_count": 27,
     "metadata": {},
     "output_type": "execute_result"
    },
    {
     "data": {
      "image/png": "[encoded data removed]",
      "text/plain": [
       "<Figure size 936x936 with 2 Axes>"
      ]
     },
     "metadata": {
      "needs_background": "light"
     },
     "output_type": "display_data"
    }
   ],
   "source": [
    "#Heatmap of activities and time slice\n",
    "sns.set_context({\"figure.figsize\":(13,13)})\n",
    "#sns.pivot(\"month\",\"year\",\"passengers\") \n",
    "sns.heatmap(data=all_activity,square=True,cmap=\"YlGnBu\",linewidths=.5) \n",
    "plt.xlabel(\"Time\", fontsize = 15)\n",
    "plt.ylabel(\"Activities\", fontsize = 15)\n",
    "plt.title(\"Heatmap of activities and time slice\", fontsize = 20)\n",
    "\n",
    "#sns.heatmap(data=all_activity,vmin=200,vmax=500)\n",
    "#cmap=\"RdBu_r\""
   ]
  },
  {
   "cell_type": "code",
   "execution_count": null,
   "id": "4476d94e-ccbf-4dd2-b231-88a864c86585",
   "metadata": {},
   "outputs": [],
   "source": []
  },
  {
   "cell_type": "code",
   "execution_count": null,
   "id": "533ceade-b7d2-4246-9c58-21e246ddfded",
   "metadata": {},
   "outputs": [],
   "source": []
  },
  {
   "cell_type": "code",
   "execution_count": null,
   "id": "bea49906-dde7-4bd7-a867-1bb42d2806b3",
   "metadata": {},
   "outputs": [],
   "source": []
  }
 ],
 "metadata": {
  "kernelspec": {
   "display_name": "Python 3 (ipykernel)",
   "language": "python",
   "name": "python3"
  },
  "language_info": {
   "codemirror_mode": {
    "name": "ipython",
    "version": 3
   },
   "file_extension": ".py",
   "mimetype": "text/x-python",
   "name": "python",
   "nbconvert_exporter": "python",
   "pygments_lexer": "ipython3",
   "version": "3.8.12"
  }
 },
 "nbformat": 4,
 "nbformat_minor": 5
}
