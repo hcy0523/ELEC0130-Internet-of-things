{
 "cells": [
  {
   "cell_type": "code",
   "execution_count": 1,
   "id": "7f47c3e1",
   "metadata": {},
   "outputs": [],
   "source": [
    "import os\n",
    "import datetime\n",
    "import pandas as pd\n",
    "import numpy as np\n",
    "from collections import Counter\n",
    "\n",
    "import warnings\n",
    "warnings.filterwarnings(\"ignore\")"
   ]
  },
  {
   "cell_type": "code",
   "execution_count": 2,
   "id": "8794a368",
   "metadata": {},
   "outputs": [],
   "source": [
    "df=pd.read_csv('data2/dataset.csv',names=['Date','Time','Sensor','State','Activity','Note'])"
   ]
  },
  {
   "cell_type": "markdown",
   "id": "336fd01d",
   "metadata": {},
   "source": [
    "### Data PreProcess-Change Outliers"
   ]
  },
  {
   "cell_type": "code",
   "execution_count": 3,
   "id": "24fe4807",
   "metadata": {},
   "outputs": [],
   "source": [
    "df.replace({'22009-02-03':'03/02/2009'},inplace=True)"
   ]
  },
  {
   "cell_type": "code",
   "execution_count": 4,
   "id": "c7e00d46",
   "metadata": {},
   "outputs": [],
   "source": [
    "df['Datetime']=df['Date'].map(lambda x: str(x)+' ')+df['Time']"
   ]
  },
  {
   "cell_type": "code",
   "execution_count": 5,
   "id": "a227f727",
   "metadata": {},
   "outputs": [],
   "source": [
    "df.replace({'04/03/2009 09:017:41.696759':'04/03/2009 09:17:42'},inplace=True)"
   ]
  },
  {
   "cell_type": "code",
   "execution_count": 6,
   "id": "1a93e06d",
   "metadata": {},
   "outputs": [],
   "source": [
    "df=df[~df.T.isnull().all()==True]"
   ]
  },
  {
   "cell_type": "code",
   "execution_count": 7,
   "id": "a7272fb1",
   "metadata": {},
   "outputs": [],
   "source": [
    "df['Datetime']=[datetime.datetime.strptime(str(time), '%d/%m/%Y %H:%M:%S').strftime('%Y-%m-%d %H:%M:%S') for time in df['Datetime']]"
   ]
  },
  {
   "cell_type": "code",
   "execution_count": 8,
   "id": "bdef88b2",
   "metadata": {},
   "outputs": [],
   "source": [
    "df['Datetime']=pd.to_datetime(df['Datetime'])"
   ]
  },
  {
   "cell_type": "code",
   "execution_count": 9,
   "id": "119dbcb9",
   "metadata": {},
   "outputs": [],
   "source": [
    "df=df.drop(['Date','Time'],axis=1)"
   ]
  },
  {
   "cell_type": "code",
   "execution_count": 10,
   "id": "2ec32158",
   "metadata": {},
   "outputs": [],
   "source": [
    "df=df[['Datetime','Sensor','State','Activity','Note']]"
   ]
  },
  {
   "cell_type": "code",
   "execution_count": 11,
   "id": "cae2342a",
   "metadata": {},
   "outputs": [],
   "source": [
    "df = df.sort_values(by = \"Datetime\",ascending=True)"
   ]
  },
  {
   "cell_type": "code",
   "execution_count": 12,
   "id": "3d897041",
   "metadata": {},
   "outputs": [],
   "source": [
    "df = df.reset_index(drop=True)"
   ]
  },
  {
   "cell_type": "code",
   "execution_count": 13,
   "id": "b8061508",
   "metadata": {},
   "outputs": [],
   "source": [
    "R1_Bed_to_Toilet_begin=df[df['Activity'].str.contains('R1_Bed_to_Toilet_begin')==True]"
   ]
  },
  {
   "cell_type": "code",
   "execution_count": 14,
   "id": "c92bca44",
   "metadata": {},
   "outputs": [],
   "source": [
    "R1_Bed_to_Toilet_end=df[df['Activity'].str.contains('R1_Bed_to_Toilet_end')==True]"
   ]
  },
  {
   "cell_type": "code",
   "execution_count": 15,
   "id": "8bb050fd",
   "metadata": {},
   "outputs": [],
   "source": [
    "R1_Bed_to_Toilet_begin.loc[:,'Activity']=R1_Bed_to_Toilet_begin.loc[:,'Activity'].apply(lambda x: 'R1_Bed_to_Toilet')\n",
    "R1_Bed_to_Toilet_begin.loc[:,'Note']=R1_Bed_to_Toilet_begin.loc[:,'Note'].apply(lambda x: 'begin')\n",
    "R1_Bed_to_Toilet_end.loc[:,'Activity']=R1_Bed_to_Toilet_end.loc[:,'Activity'].apply(lambda x: 'R1_Bed_to_Toilet')\n",
    "R1_Bed_to_Toilet_end.loc[:,'Note']=R1_Bed_to_Toilet_end.loc[:,'Note'].apply(lambda x: 'end')"
   ]
  },
  {
   "cell_type": "code",
   "execution_count": 16,
   "id": "ec246a40",
   "metadata": {},
   "outputs": [],
   "source": [
    "remain=df[df['Activity'].str.contains('R1_Bed_to_Toilet_begin')!=True]"
   ]
  },
  {
   "cell_type": "code",
   "execution_count": 17,
   "id": "38ff2c43",
   "metadata": {},
   "outputs": [],
   "source": [
    "remain=remain[remain['Activity'].str.contains('R1_Bed_to_Toilet_end')!=True]"
   ]
  },
  {
   "cell_type": "code",
   "execution_count": 18,
   "id": "febc3632",
   "metadata": {},
   "outputs": [],
   "source": [
    "table=remain.append(R1_Bed_to_Toilet_begin).append(R1_Bed_to_Toilet_end).sort_values(by = \"Datetime\",ascending=True)"
   ]
  },
  {
   "cell_type": "code",
   "execution_count": 19,
   "id": "3ea064b2",
   "metadata": {},
   "outputs": [],
   "source": [
    "BE=table[~table['Note'].isnull()==True]"
   ]
  },
  {
   "cell_type": "code",
   "execution_count": 20,
   "id": "1571bf14",
   "metadata": {},
   "outputs": [],
   "source": [
    "table.drop([131693,134839,127365,126404],inplace=True)"
   ]
  },
  {
   "cell_type": "code",
   "execution_count": 21,
   "id": "e35898ec",
   "metadata": {},
   "outputs": [],
   "source": [
    "Table1=table.copy()"
   ]
  },
  {
   "cell_type": "code",
   "execution_count": 22,
   "id": "f88082b5-def9-4712-8a09-15f542e78e38",
   "metadata": {},
   "outputs": [],
   "source": [
    "group = table.groupby('Activity')\n",
    "#group.describe()"
   ]
  },
  {
   "cell_type": "code",
   "execution_count": 23,
   "id": "d5076bb3-f590-4a5a-a89d-16bba2672431",
   "metadata": {},
   "outputs": [],
   "source": [
    "groups = {}\n",
    "for k, g in group:\n",
    "    groups[k]=g  \n",
    "for i in groups:\n",
    "    groups[i]=pd.DataFrame(groups[i])"
   ]
  },
  {
   "cell_type": "code",
   "execution_count": 24,
   "id": "37fdb8a1",
   "metadata": {},
   "outputs": [],
   "source": [
    "R1_work=groups['R1_Work']"
   ]
  },
  {
   "cell_type": "code",
   "execution_count": 25,
   "id": "ca4e665e",
   "metadata": {},
   "outputs": [],
   "source": [
    "ab=[4,6,8,10,11,16,17,19]"
   ]
  },
  {
   "cell_type": "code",
   "execution_count": 26,
   "id": "0d2c3f05",
   "metadata": {
    "scrolled": true
   },
   "outputs": [],
   "source": [
    "change=[R1_work.index[t] for t in ab]"
   ]
  },
  {
   "cell_type": "code",
   "execution_count": 27,
   "id": "ac1ddebb",
   "metadata": {},
   "outputs": [],
   "source": [
    "for t in change:\n",
    "    Table1.loc[t,'Activity':'Note']=np.nan "
   ]
  },
  {
   "cell_type": "code",
   "execution_count": 28,
   "id": "7ee4a871",
   "metadata": {},
   "outputs": [],
   "source": [
    "date=['2009-02-03 17:57:52','2009-02-04 21:05:59','2009-02-05 18:38:52','2009-02-06 14:29:30','2009-02-06 14:56:15','2009-02-09 18:53:58','2009-02-09 19:30:53','2009-02-10 11:08:15']"
   ]
  },
  {
   "cell_type": "code",
   "execution_count": 29,
   "id": "c3061255",
   "metadata": {},
   "outputs": [],
   "source": [
    "Ch=[]"
   ]
  },
  {
   "cell_type": "code",
   "execution_count": 30,
   "id": "701509f9",
   "metadata": {},
   "outputs": [],
   "source": [
    "for d in date:\n",
    "    Change=Table1[Table1['Datetime']==d]\n",
    "    for r in range(Change.shape[0]):\n",
    "        Ch.append(Change.iloc[r,:])"
   ]
  },
  {
   "cell_type": "code",
   "execution_count": 31,
   "id": "89401aa4",
   "metadata": {},
   "outputs": [],
   "source": [
    "Ch=pd.DataFrame(Ch)"
   ]
  },
  {
   "cell_type": "code",
   "execution_count": 32,
   "id": "5a5b8e4f",
   "metadata": {},
   "outputs": [],
   "source": [
    "Ch=Ch[Ch['Sensor'].str.contains('M31')==True]"
   ]
  },
  {
   "cell_type": "code",
   "execution_count": 33,
   "id": "4ba1e429",
   "metadata": {},
   "outputs": [],
   "source": [
    "Chindex=Ch.index.to_list()"
   ]
  },
  {
   "cell_type": "code",
   "execution_count": 34,
   "id": "c3bdaa86",
   "metadata": {},
   "outputs": [],
   "source": [
    "be=Chindex[0:4]"
   ]
  },
  {
   "cell_type": "code",
   "execution_count": 35,
   "id": "4eec3373",
   "metadata": {},
   "outputs": [],
   "source": [
    "be.append(Chindex[5])"
   ]
  },
  {
   "cell_type": "code",
   "execution_count": 36,
   "id": "182939e0",
   "metadata": {},
   "outputs": [],
   "source": [
    "en=[14208, 20990, 22671]"
   ]
  },
  {
   "cell_type": "code",
   "execution_count": 37,
   "id": "eaaa9e00",
   "metadata": {},
   "outputs": [],
   "source": [
    "for t in be:\n",
    "    Table1.loc[t,'Activity']='R1_Work' \n",
    "    Table1.loc[t,'Note']='begin' "
   ]
  },
  {
   "cell_type": "code",
   "execution_count": 38,
   "id": "86cd01a1",
   "metadata": {},
   "outputs": [],
   "source": [
    "for t in en:\n",
    "    Table1.loc[t,'Activity']='R1_Work' \n",
    "    Table1.loc[t,'Note']='end' "
   ]
  },
  {
   "cell_type": "code",
   "execution_count": 39,
   "id": "6eedbdbd",
   "metadata": {},
   "outputs": [],
   "source": [
    "R2_work=groups['R2_Work']"
   ]
  },
  {
   "cell_type": "code",
   "execution_count": 40,
   "id": "82059052",
   "metadata": {},
   "outputs": [],
   "source": [
    "ab2=[0,2,4,6,7,35]"
   ]
  },
  {
   "cell_type": "code",
   "execution_count": 41,
   "id": "5819cf6d",
   "metadata": {
    "scrolled": true
   },
   "outputs": [],
   "source": [
    "change=[R2_work.index[t] for t in ab2]"
   ]
  },
  {
   "cell_type": "code",
   "execution_count": 42,
   "id": "9345732f",
   "metadata": {},
   "outputs": [],
   "source": [
    "for t in change:\n",
    "    Table1.loc[t,'Activity':'Note']=np.nan "
   ]
  },
  {
   "cell_type": "code",
   "execution_count": 43,
   "id": "a9caa2e1",
   "metadata": {},
   "outputs": [],
   "source": [
    "date=['2009-02-02 15:23:24','2009-02-04 20:18:07','2009-02-05 20:03:56','2009-02-09 10:54:37','2009-02-09 11:31:40','2009-02-26 17:17:45']"
   ]
  },
  {
   "cell_type": "code",
   "execution_count": 44,
   "id": "0b821365",
   "metadata": {},
   "outputs": [],
   "source": [
    "Ch=[]"
   ]
  },
  {
   "cell_type": "code",
   "execution_count": 45,
   "id": "82c488fb",
   "metadata": {},
   "outputs": [],
   "source": [
    "for d in date:\n",
    "    Change=Table1[Table1['Datetime']==d]\n",
    "    for r in range(Change.shape[0]):\n",
    "        Ch.append(Change.iloc[r,:])"
   ]
  },
  {
   "cell_type": "code",
   "execution_count": 46,
   "id": "4f836985",
   "metadata": {},
   "outputs": [],
   "source": [
    "Ch=pd.DataFrame(Ch)"
   ]
  },
  {
   "cell_type": "code",
   "execution_count": 47,
   "id": "1f587c05",
   "metadata": {},
   "outputs": [],
   "source": [
    "Ch1=Ch[Ch['Sensor'].str.contains('M44')==True]"
   ]
  },
  {
   "cell_type": "code",
   "execution_count": 48,
   "id": "17e39b65",
   "metadata": {},
   "outputs": [],
   "source": [
    "Ch2=Ch[Ch['Sensor'].str.contains('M45')==True]"
   ]
  },
  {
   "cell_type": "code",
   "execution_count": 49,
   "id": "192e74b9",
   "metadata": {},
   "outputs": [],
   "source": [
    "Ch=Ch1.append(Ch2)"
   ]
  },
  {
   "cell_type": "code",
   "execution_count": 50,
   "id": "ac38269a",
   "metadata": {},
   "outputs": [],
   "source": [
    "Ch=Ch.sort_values(by = \"Datetime\",ascending=True)"
   ]
  },
  {
   "cell_type": "code",
   "execution_count": 51,
   "id": "f876e43c",
   "metadata": {},
   "outputs": [],
   "source": [
    "Ch=Ch.drop([19521],axis=0)"
   ]
  },
  {
   "cell_type": "code",
   "execution_count": 52,
   "id": "7152e12d",
   "metadata": {},
   "outputs": [],
   "source": [
    "Chindex=Ch.index.to_list()"
   ]
  },
  {
   "cell_type": "code",
   "execution_count": 53,
   "id": "07a9af0e",
   "metadata": {},
   "outputs": [],
   "source": [
    "be=Chindex[0:4]"
   ]
  },
  {
   "cell_type": "code",
   "execution_count": 54,
   "id": "23127814",
   "metadata": {},
   "outputs": [],
   "source": [
    "en=Chindex[4:6]"
   ]
  },
  {
   "cell_type": "code",
   "execution_count": 55,
   "id": "6f42a081",
   "metadata": {},
   "outputs": [],
   "source": [
    "for t in be:\n",
    "    Table1.loc[t,'Activity']='R2_Work' \n",
    "    Table1.loc[t,'Note']='begin' "
   ]
  },
  {
   "cell_type": "code",
   "execution_count": 56,
   "id": "ea6229bd",
   "metadata": {},
   "outputs": [],
   "source": [
    "for t in en:\n",
    "    Table1.loc[t,'Activity']='R2_Work' \n",
    "    Table1.loc[t,'Note']='end' "
   ]
  },
  {
   "cell_type": "code",
   "execution_count": 57,
   "id": "a59fc08f",
   "metadata": {
    "scrolled": true
   },
   "outputs": [
    {
     "data": {
      "text/plain": [
       "begin    514\n",
       "end      514\n",
       "Name: Note, dtype: int64"
      ]
     },
     "execution_count": 57,
     "metadata": {},
     "output_type": "execute_result"
    }
   ],
   "source": [
    "Table1['Note'].value_counts()"
   ]
  },
  {
   "cell_type": "markdown",
   "id": "50a29db0",
   "metadata": {},
   "source": [
    "### Data Transform"
   ]
  },
  {
   "cell_type": "code",
   "execution_count": 58,
   "id": "9df69cb3",
   "metadata": {},
   "outputs": [],
   "source": [
    "beginandend=Table1[~Table1['Note'].isnull()==True]"
   ]
  },
  {
   "cell_type": "code",
   "execution_count": 59,
   "id": "58ade24f",
   "metadata": {},
   "outputs": [],
   "source": [
    "gro = beginandend.groupby('Activity')\n",
    "gros = {}\n",
    "for k, g in gro:\n",
    "    gros[k]=g  \n",
    "for i in gros:\n",
    "    gros[i]=pd.DataFrame(gros[i])"
   ]
  },
  {
   "cell_type": "code",
   "execution_count": 60,
   "id": "f2b9763e",
   "metadata": {
    "scrolled": true
   },
   "outputs": [
    {
     "name": "stdout",
     "output_type": "stream",
     "text": [
      "Clean\n",
      "Meal_Preparation\n",
      "R1_Bed_to_Toilet\n",
      "R1_Personal_Hygiene\n",
      "R1_Sleep\n",
      "R1_Work\n",
      "R2_Bed_to_Toilet\n",
      "R2_Personal_Hygiene\n",
      "R2_Sleep\n",
      "R2_Work\n",
      "Study\n",
      "Wash_Bathtub\n",
      "Watch_TV\n"
     ]
    }
   ],
   "source": [
    "for k, g in gros.items():\n",
    "    print(k)"
   ]
  },
  {
   "cell_type": "code",
   "execution_count": 61,
   "id": "1718b31a",
   "metadata": {
    "scrolled": true
   },
   "outputs": [],
   "source": [
    "Term=list()"
   ]
  },
  {
   "cell_type": "code",
   "execution_count": 62,
   "id": "97e6620f",
   "metadata": {},
   "outputs": [],
   "source": [
    "for item in gros:\n",
    "    gr = gros[item].groupby('Note')\n",
    "    grs = {}\n",
    "    for k, g in gr:\n",
    "        grs[k]=g  \n",
    "    for i in grs:\n",
    "        grs[i]=pd.DataFrame(grs[i])\n",
    "    term=zip(grs['begin'].index.to_list(),grs['end'].index.to_list())\n",
    "    Term1=list(term)\n",
    "    Term+=Term1\n",
    "    "
   ]
  },
  {
   "cell_type": "code",
   "execution_count": 63,
   "id": "2e0426a9",
   "metadata": {},
   "outputs": [],
   "source": [
    "Term=sorted(Term)"
   ]
  },
  {
   "cell_type": "code",
   "execution_count": 64,
   "id": "9aed8469",
   "metadata": {},
   "outputs": [],
   "source": [
    "Table=Table1.copy()"
   ]
  },
  {
   "cell_type": "code",
   "execution_count": 65,
   "id": "5a8fdb63",
   "metadata": {},
   "outputs": [],
   "source": [
    "for m,n in list(term):\n",
    "    Table.loc[m:n,'Activity']=Table1.loc[m,'Activity']"
   ]
  },
  {
   "cell_type": "code",
   "execution_count": 66,
   "id": "e6a626d2",
   "metadata": {},
   "outputs": [],
   "source": [
    "Table=Table.reset_index(drop=True)"
   ]
  },
  {
   "cell_type": "code",
   "execution_count": 67,
   "id": "8c890501",
   "metadata": {},
   "outputs": [],
   "source": [
    "Sensor=Table['Sensor'].value_counts()"
   ]
  },
  {
   "cell_type": "code",
   "execution_count": 68,
   "id": "75c26a14",
   "metadata": {},
   "outputs": [],
   "source": [
    "sensor=Sensor.index.tolist()"
   ]
  },
  {
   "cell_type": "code",
   "execution_count": 69,
   "id": "fe0767a9",
   "metadata": {},
   "outputs": [],
   "source": [
    "gp = table.groupby('Activity')"
   ]
  },
  {
   "cell_type": "code",
   "execution_count": 70,
   "id": "a7ee1e6b",
   "metadata": {},
   "outputs": [],
   "source": [
    "gps = {}\n",
    "for k, g in gp:\n",
    "    gps[k]=g  \n",
    "for i in gps:\n",
    "    gps[i]=pd.DataFrame(gps[i])"
   ]
  },
  {
   "cell_type": "code",
   "execution_count": 71,
   "id": "31c59945",
   "metadata": {},
   "outputs": [],
   "source": [
    "Table['Duration']=0\n",
    "Table['BeginTime']=0"
   ]
  },
  {
   "cell_type": "code",
   "execution_count": 72,
   "id": "df680e50",
   "metadata": {
    "scrolled": false
   },
   "outputs": [],
   "source": [
    "for b,e in Term:\n",
    "    Table['Activity'][b:e+1]=Table1['Activity'][b] \n",
    "    Table['Duration'][b:e+1]=Table1['Datetime'][e]-Table['Datetime'][b]\n",
    "    Table['BeginTime'][b:e+1]=Table1['Datetime'][b]"
   ]
  },
  {
   "cell_type": "code",
   "execution_count": 73,
   "id": "4615a1d1",
   "metadata": {},
   "outputs": [],
   "source": [
    "new=Table[['BeginTime','Duration','Sensor','Activity']]"
   ]
  },
  {
   "cell_type": "code",
   "execution_count": 74,
   "id": "71c1cfa6",
   "metadata": {},
   "outputs": [],
   "source": [
    "sensor.insert(0,'BeginTime')\n",
    "sensor.insert(1,'Duration')\n",
    "sensor.insert(73,'Activity')"
   ]
  },
  {
   "cell_type": "code",
   "execution_count": 75,
   "id": "920cb7ce",
   "metadata": {},
   "outputs": [],
   "source": [
    "pred=pd.DataFrame(columns=sensor)"
   ]
  },
  {
   "cell_type": "code",
   "execution_count": 76,
   "id": "76164b29",
   "metadata": {},
   "outputs": [],
   "source": [
    "for b,e in Term:\n",
    "    dic={sen:0 for sen in sensor}\n",
    "    dic=pd.DataFrame([dic])\n",
    "    series=Table['Sensor'][b:e+1].value_counts().to_dict()\n",
    "    dic['BeginTime']=Table['BeginTime'][b]\n",
    "    dic['Duration']=Table['Duration'][b]\n",
    "    dic['Activity']=Table['Activity'][b]\n",
    "    for k,v in series.items():\n",
    "        dic[k] = v\n",
    "    pred = pred.append(dic)\n",
    "    "
   ]
  },
  {
   "cell_type": "code",
   "execution_count": 77,
   "id": "0472b4ab",
   "metadata": {},
   "outputs": [],
   "source": [
    "series=Table['Sensor'][0:80].value_counts().to_dict()"
   ]
  },
  {
   "cell_type": "code",
   "execution_count": 78,
   "id": "8ac6f868",
   "metadata": {
    "scrolled": true
   },
   "outputs": [],
   "source": [
    "pred=pred.reset_index(drop=True)"
   ]
  },
  {
   "cell_type": "code",
   "execution_count": 79,
   "id": "f2c4af13",
   "metadata": {},
   "outputs": [],
   "source": [
    "pred['Duration']=[datetime.datetime.strptime(str(time), '0 days %H:%M:%S').strftime('%H:%M:%S') for time in pred['Duration']]"
   ]
  },
  {
   "cell_type": "code",
   "execution_count": 80,
   "id": "6ab72b2d",
   "metadata": {},
   "outputs": [],
   "source": [
    "pred['BeginTime']=[datetime.datetime.strptime(str(time), '%Y-%m-%d %H:%M:%S').strftime('%H:%M:%S') for time in pred['BeginTime']]"
   ]
  },
  {
   "cell_type": "code",
   "execution_count": 82,
   "id": "9d46d916",
   "metadata": {},
   "outputs": [],
   "source": [
    "pred.to_csv('./data2/table.csv',index=False)"
   ]
  },
  {
   "cell_type": "markdown",
   "id": "9ab0dbb6",
   "metadata": {},
   "source": [
    "### Up&downstair"
   ]
  },
  {
   "cell_type": "code",
   "execution_count": 83,
   "id": "879eafc2",
   "metadata": {},
   "outputs": [],
   "source": [
    "updown=pd.read_csv('data2/stairsData.csv')"
   ]
  },
  {
   "cell_type": "code",
   "execution_count": 84,
   "id": "72df8764",
   "metadata": {},
   "outputs": [],
   "source": [
    "updown1=updown.drop_duplicates(subset = ['start'])\n",
    "updown1=updown1.drop_duplicates(subset = ['end'])"
   ]
  },
  {
   "cell_type": "code",
   "execution_count": 85,
   "id": "37f2a7c2",
   "metadata": {},
   "outputs": [],
   "source": [
    "updown1.reset_index(inplace=True,drop=True)"
   ]
  },
  {
   "cell_type": "code",
   "execution_count": 86,
   "id": "e93af326",
   "metadata": {},
   "outputs": [],
   "source": [
    "ups=pd.DataFrame([])\n",
    "for i in range(len(updown1.start)):\n",
    "    ups=ups.append(Table1[Table1['Datetime'].where(Table1['Datetime']==updown1.start[i]).notnull()==True]) "
   ]
  },
  {
   "cell_type": "code",
   "execution_count": 87,
   "id": "c8dce30c",
   "metadata": {},
   "outputs": [],
   "source": [
    "ups= ups.drop_duplicates(subset = ['Datetime'])"
   ]
  },
  {
   "cell_type": "code",
   "execution_count": 88,
   "id": "ddb16119",
   "metadata": {},
   "outputs": [],
   "source": [
    "upe=pd.DataFrame([])\n",
    "for i in range(len(updown1.end)):\n",
    "    upe=upe.append(Table1[Table1['Datetime'].where(Table1['Datetime']==updown1.end[i]).notnull()==True]) "
   ]
  },
  {
   "cell_type": "code",
   "execution_count": 89,
   "id": "6145c4ae",
   "metadata": {},
   "outputs": [],
   "source": [
    "upe= upe.drop_duplicates(subset = ['Datetime'])"
   ]
  },
  {
   "cell_type": "code",
   "execution_count": 90,
   "id": "440881b9",
   "metadata": {},
   "outputs": [],
   "source": [
    "udt=zip(ups.index.to_list(),upe.index.to_list())"
   ]
  },
  {
   "cell_type": "code",
   "execution_count": 91,
   "id": "a8c6266c",
   "metadata": {},
   "outputs": [],
   "source": [
    "udt=list(udt)"
   ]
  },
  {
   "cell_type": "code",
   "execution_count": 92,
   "id": "a64c335a",
   "metadata": {},
   "outputs": [],
   "source": [
    "udpred=pd.DataFrame(columns=sensor)"
   ]
  },
  {
   "cell_type": "code",
   "execution_count": 93,
   "id": "672da033",
   "metadata": {},
   "outputs": [],
   "source": [
    "for b,e in udt:\n",
    "    dic={sen:0 for sen in sensor}\n",
    "    dic=pd.DataFrame([dic])\n",
    "    series=Table['Sensor'][b:e+1].value_counts().to_dict()\n",
    "    dic['BeginTime']=Table['BeginTime'][b]\n",
    "    dic['Activity']='up&downstairs'\n",
    "    for k,v in series.items():\n",
    "        dic[k] = v\n",
    "    udpred = udpred.append(dic)"
   ]
  },
  {
   "cell_type": "code",
   "execution_count": 94,
   "id": "f9d746d5",
   "metadata": {},
   "outputs": [],
   "source": [
    "udpred.reset_index(drop=True,inplace=True)"
   ]
  },
  {
   "cell_type": "code",
   "execution_count": 95,
   "id": "029e7a31",
   "metadata": {},
   "outputs": [],
   "source": [
    "udpred.Duration=updown1.duration"
   ]
  },
  {
   "cell_type": "code",
   "execution_count": 96,
   "id": "47cdaf67",
   "metadata": {},
   "outputs": [],
   "source": [
    "udpred['Duration']=[datetime.datetime.strptime(str(time), '0 days %H:%M:%S').strftime('%H:%M:%S') for time in udpred['Duration']]\n",
    "udpred['BeginTime']=[datetime.datetime.strptime(str(time), '%Y-%m-%d %H:%M:%S').strftime('%H:%M:%S') for time in udpred['BeginTime']]"
   ]
  },
  {
   "cell_type": "code",
   "execution_count": 97,
   "id": "69e24253",
   "metadata": {},
   "outputs": [],
   "source": [
    "Final=pd.concat([pred,udpred]).reset_index(drop=True)"
   ]
  },
  {
   "cell_type": "code",
   "execution_count": 98,
   "id": "ffca0509",
   "metadata": {},
   "outputs": [],
   "source": [
    "Final.to_csv('./data2/table_add_ud.csv',index=False)"
   ]
  },
  {
   "cell_type": "code",
   "execution_count": null,
   "id": "188292d1",
   "metadata": {},
   "outputs": [],
   "source": []
  }
 ],
 "metadata": {
  "kernelspec": {
   "display_name": "Python 3 (ipykernel)",
   "language": "python",
   "name": "python3"
  },
  "language_info": {
   "codemirror_mode": {
    "name": "ipython",
    "version": 3
   },
   "file_extension": ".py",
   "mimetype": "text/x-python",
   "name": "python",
   "nbconvert_exporter": "python",
   "pygments_lexer": "ipython3",
   "version": "3.9.7"
  },
  "varInspector": {
   "cols": {
    "lenName": 16,
    "lenType": 16,
    "lenVar": 40
   },
   "kernels_config": {
    "python": {
     "delete_cmd_postfix": "",
     "delete_cmd_prefix": "del ",
     "library": "var_list.py",
     "varRefreshCmd": "print(var_dic_list())"
    },
    "r": {
     "delete_cmd_postfix": ") ",
     "delete_cmd_prefix": "rm(",
     "library": "var_list.r",
     "varRefreshCmd": "cat(var_dic_list()) "
    }
   },
   "types_to_exclude": [
    "module",
    "function",
    "builtin_function_or_method",
    "instance",
    "_Feature"
   ],
   "window_display": false
  }
 },
 "nbformat": 4,
 "nbformat_minor": 5
}
