{
 "cells": [
  {
   "cell_type": "code",
   "execution_count": 1,
   "id": "688c76cc",
   "metadata": {},
   "outputs": [],
   "source": [
    "import os\n",
    "import datetime\n",
    "import winsound\n",
    "import pandas as pd\n",
    "import numpy as np\n",
    "from collections import Counter\n",
    "from sklearn.utils import shuffle\n",
    "from sklearn.metrics import accuracy_score\n",
    "from sklearn.model_selection import train_test_split\n",
    "from sklearn.ensemble import RandomForestClassifier"
   ]
  },
  {
   "cell_type": "code",
   "execution_count": 2,
   "id": "e4854bfa",
   "metadata": {},
   "outputs": [],
   "source": [
    "df2=pd.read_csv('data2/table.csv')"
   ]
  },
  {
   "cell_type": "code",
   "execution_count": 3,
   "id": "0bff381c",
   "metadata": {},
   "outputs": [],
   "source": [
    "df2['BeginTimeH']=[datetime.datetime.strptime(str(time), '%H:%M:%S').strftime('%H') for time in df2['BeginTime']]\n",
    "df2['BeginTimeM']=[datetime.datetime.strptime(str(time), '%H:%M:%S').strftime('%M') for time in df2['BeginTime']]\n",
    "df2['DurationH']=[datetime.datetime.strptime(str(time), '%H:%M:%S').strftime('%H') for time in df2['Duration']]\n",
    "df2['DurationM']=[datetime.datetime.strptime(str(time), '%H:%M:%S').strftime('%M') for time in df2['Duration']]"
   ]
  },
  {
   "cell_type": "code",
   "execution_count": 4,
   "id": "50757544",
   "metadata": {},
   "outputs": [],
   "source": [
    "df4=pd.concat([df2.iloc[:,74:78],df2.iloc[:,2:74]],axis=1)"
   ]
  },
  {
   "cell_type": "code",
   "execution_count": 5,
   "id": "843c3f6f",
   "metadata": {},
   "outputs": [],
   "source": [
    "group=df4.groupby('Activity')"
   ]
  },
  {
   "cell_type": "code",
   "execution_count": 6,
   "id": "cf7dba45",
   "metadata": {},
   "outputs": [],
   "source": [
    "groups = {}\n",
    "for k, g in group:\n",
    "    groups[k]=g  \n",
    "for i in groups:\n",
    "    groups[i]=pd.DataFrame(groups[i])"
   ]
  },
  {
   "cell_type": "code",
   "execution_count": 7,
   "id": "30affce4",
   "metadata": {},
   "outputs": [],
   "source": [
    "meal=groups['Meal_Preparation'].iloc[:,[0,2,75]]\n",
    "r1sleep=groups['R1_Sleep'].iloc[:,[0,2,75]]\n",
    "r2sleep=groups['R2_Sleep'].iloc[:,[0,2,75]]\n",
    "r1toilet=groups['R1_Bed_to_Toilet'].iloc[:,[0,2,75]]\n",
    "r2toilet=groups['R2_Bed_to_Toilet'].iloc[:,[0,2,75]]\n",
    "# stairs=groups['up&downstairs'].iloc[:,[2,3,75]]"
   ]
  },
  {
   "cell_type": "code",
   "execution_count": 8,
   "id": "07352c14",
   "metadata": {},
   "outputs": [],
   "source": [
    "sleep=r1sleep.append(r2sleep)\n",
    "sleep.reset_index(inplace=True)\n",
    "sleep=sleep.sort_values(by = 'index',ascending=True)\n",
    "sleep=sleep.set_index(['index'],drop=True)\n",
    "# sort_values(by = \"Datetime\",ascending=True)"
   ]
  },
  {
   "cell_type": "code",
   "execution_count": 9,
   "id": "21f792aa",
   "metadata": {},
   "outputs": [],
   "source": [
    "toilet=r1toilet.append(r2toilet)\n",
    "toilet.reset_index(inplace=True)\n",
    "toilet=toilet.sort_values(by = 'index',ascending=True)\n",
    "toilet=toilet.set_index(['index'],drop=True)"
   ]
  },
  {
   "cell_type": "code",
   "execution_count": 10,
   "id": "06ca5673",
   "metadata": {},
   "outputs": [],
   "source": [
    "# stairs=stairs.append(stairs)\n",
    "# stairs.reset_index(inplace=True)\n",
    "# stairs=stairs.sort_values(by = 'index',ascending=True)\n",
    "# stairs=stairs.set_index(['index'],drop=True)"
   ]
  },
  {
   "cell_type": "code",
   "execution_count": 11,
   "id": "f4bf9c42",
   "metadata": {},
   "outputs": [],
   "source": [
    "import warnings\n",
    "warnings.filterwarnings(\"ignore\")\n",
    "\n",
    "meal['label']='Meal_normal'\n",
    "for i,t in enumerate(meal['DurationH']):\n",
    "    if int(t)>=2:\n",
    "        meal.iloc[i,3]='Meal_Abnormal'\n",
    "        \n",
    "sleep['label']='Sleep_Normal'\n",
    "for i,t in enumerate(sleep['BeginTimeH']):\n",
    "    if int(t)<=3:\n",
    "        sleep.iloc[i,3]='Sleep_Abnormal'\n",
    "for i,t in enumerate(sleep['DurationH']):\n",
    "    if int(t)>=11:\n",
    "        sleep.iloc[i,3]='Sleep_Abnormal'\n",
    "        \n",
    "toilet['label']='Toilet_Normal'\n",
    "for i,t in enumerate(toilet['BeginTimeH']):\n",
    "    if 0<=int(t)<6:\n",
    "        toilet.iloc[i,3]='Toilet_Abnormal'\n",
    "        \n",
    "# stairs['label']='stairs_Normal'\n",
    "# for i,t in enumerate(stairs['DurationM']):\n",
    "#     if int(t)>15:\n",
    "#         stairs.iloc[i,3]='stairs_Abnormal'"
   ]
  },
  {
   "cell_type": "code",
   "execution_count": 12,
   "id": "22f25ffc",
   "metadata": {},
   "outputs": [
    {
     "data": {
      "text/plain": [
       "Meal_normal      109\n",
       "Meal_Abnormal      8\n",
       "Name: label, dtype: int64"
      ]
     },
     "execution_count": 12,
     "metadata": {},
     "output_type": "execute_result"
    }
   ],
   "source": [
    "meal['label'].value_counts()"
   ]
  },
  {
   "cell_type": "code",
   "execution_count": 13,
   "id": "facb1b30",
   "metadata": {},
   "outputs": [
    {
     "data": {
      "text/plain": [
       "Sleep_Normal      59\n",
       "Sleep_Abnormal    11\n",
       "Name: label, dtype: int64"
      ]
     },
     "execution_count": 13,
     "metadata": {},
     "output_type": "execute_result"
    }
   ],
   "source": [
    "sleep['label'].value_counts()"
   ]
  },
  {
   "cell_type": "code",
   "execution_count": 14,
   "id": "18dce8a5",
   "metadata": {},
   "outputs": [],
   "source": [
    "# stairs['label'].value_counts()"
   ]
  },
  {
   "cell_type": "code",
   "execution_count": 15,
   "id": "e5733df2",
   "metadata": {},
   "outputs": [
    {
     "data": {
      "text/plain": [
       "Toilet_Normal      79\n",
       "Toilet_Abnormal    20\n",
       "Name: label, dtype: int64"
      ]
     },
     "execution_count": 15,
     "metadata": {},
     "output_type": "execute_result"
    }
   ],
   "source": [
    "toilet['label'].value_counts()"
   ]
  },
  {
   "cell_type": "code",
   "execution_count": 16,
   "id": "7ff27a24",
   "metadata": {},
   "outputs": [],
   "source": [
    "dis=meal.append(sleep).append(toilet)#.append(stairs)\n",
    "df5=df4.iloc[:,[0,2,75]]\n",
    "df5['label']='Normal'\n",
    "for e,i in enumerate(dis.index):\n",
    "    df5.iloc[i,3]=dis.iloc[e,3]"
   ]
  },
  {
   "cell_type": "code",
   "execution_count": 17,
   "id": "1a5e1e61",
   "metadata": {},
   "outputs": [],
   "source": [
    "Meal=meal.iloc[:,[1,2,3]]\n",
    "Sleep=sleep.iloc[:,[0,1,2,3]]\n",
    "Toilet=toilet.iloc[:,[0,2,3]]\n",
    "# stairs=stairs.iloc[:,[1,2,3]]"
   ]
  },
  {
   "cell_type": "code",
   "execution_count": 18,
   "id": "5f226bde",
   "metadata": {},
   "outputs": [],
   "source": [
    "for e,i in enumerate(df5['Activity']):\n",
    "    if i =='Meal_Preparation':\n",
    "        df5.iloc[e,2]=0\n",
    "    elif i =='R1_Bed_to_Toilet'or i =='R2_Bed_to_Toilet':\n",
    "        df5.iloc[e,2]=1\n",
    "    elif i =='R1_Sleep'or i =='R2_Sleep':\n",
    "        df5.iloc[e,2]=2\n",
    "#     elif i =='up&downstairs':\n",
    "#         df5.iloc[e,2]=3   \n",
    "    else:\n",
    "        df5.iloc[e,2]=3\n",
    "    "
   ]
  },
  {
   "cell_type": "code",
   "execution_count": 19,
   "id": "79add1e3",
   "metadata": {},
   "outputs": [],
   "source": [
    "Values= df5.iloc[:,0:3].values\n",
    "Target = df5.iloc[:,3].values"
   ]
  },
  {
   "cell_type": "code",
   "execution_count": 20,
   "id": "07d739e3",
   "metadata": {},
   "outputs": [],
   "source": [
    "Values, Target = shuffle(Values,Target)\n",
    "x_Train, x_Test, y_Train, y_Test = train_test_split(Values, Target, train_size=0.8, random_state=0)"
   ]
  },
  {
   "cell_type": "code",
   "execution_count": 21,
   "id": "91959f40",
   "metadata": {},
   "outputs": [
    {
     "name": "stdout",
     "output_type": "stream",
     "text": [
      "(411, 3) (103, 3) 411 103\n",
      "Train set: 0.8  | Test set: 0.2\n"
     ]
    }
   ],
   "source": [
    "print(x_Train.shape, x_Test.shape, len(y_Train), len(y_Test))\n",
    "\n",
    "print('Train set: {}  | Test set: {}'.format(round(((len(y_Train)*1.0)/len(Values)),3),\n",
    "                                                       round((len(y_Test)*1.0)/len(Values),3)))"
   ]
  },
  {
   "cell_type": "code",
   "execution_count": 22,
   "id": "3d9ab113",
   "metadata": {},
   "outputs": [
    {
     "name": "stdout",
     "output_type": "stream",
     "text": [
      "Counter({'Normal': 228, 'Meal_normal': 109, 'Toilet_Normal': 79, 'Sleep_Normal': 59, 'Toilet_Abnormal': 20, 'Sleep_Abnormal': 11, 'Meal_Abnormal': 8})\n"
     ]
    }
   ],
   "source": [
    "counts=Counter(Target)\n",
    "print(counts)# show the distribution of sample"
   ]
  },
  {
   "cell_type": "code",
   "execution_count": 23,
   "id": "06d1e6e0",
   "metadata": {},
   "outputs": [
    {
     "name": "stdout",
     "output_type": "stream",
     "text": [
      "Random Forest test for Anormaly Accuracy: 0.9902912621359223\n"
     ]
    }
   ],
   "source": [
    "clf=RandomForestClassifier(n_estimators=150)\n",
    "\n",
    "#Train the model using the training sets\n",
    "clf.fit(x_Train,y_Train)\n",
    "\n",
    "# prediction on test set\n",
    "Abnormaly_pred_RandomForest=clf.predict(x_Test)\n",
    "\n",
    "print(\"Random Forest test for Anormaly Accuracy:\", accuracy_score(y_Test, Abnormaly_pred_RandomForest))"
   ]
  },
  {
   "cell_type": "code",
   "execution_count": 24,
   "id": "64837364",
   "metadata": {},
   "outputs": [],
   "source": [
    "feature_names=['BeginTimeH','DurationH','Activity']\n",
    "target_names=['Normal', 'Meal_normal', 'Toilet_Normal', 'Sleep_Normal', 'Toilet_Abnormal', 'Sleep_Abnormal', 'Meal_Abnormal']"
   ]
  },
  {
   "cell_type": "code",
   "execution_count": 25,
   "id": "32372a70",
   "metadata": {},
   "outputs": [],
   "source": [
    "def visualise_tree(tree_to_print,index):\n",
    "    plt.figure()\n",
    "    fig, axes = plt.subplots(nrows = 1,ncols = 1,figsize = (40,10), dpi=100)\n",
    "    tree.plot_tree(tree_to_print,\n",
    "               feature_names = feature_names,\n",
    "               class_names=target_names, \n",
    "               filled = True,\n",
    "              rounded=True);\n",
    "    plt.savefig('figure/'+str(index)+'.jpg')\n",
    "# for index in range(0, 5):\n",
    "#     visualise_tree(clf.estimators_[index],index)"
   ]
  },
  {
   "cell_type": "code",
   "execution_count": 26,
   "id": "1433ac4a",
   "metadata": {},
   "outputs": [
    {
     "name": "stdout",
     "output_type": "stream",
     "text": [
      "There are 11 abnomaly detected!\n"
     ]
    }
   ],
   "source": [
    "\n",
    "# 33561165565 33561165565 55535665 3235321121 32132 35615 23523165 612 312165\n",
    "i=0\n",
    "for act in Abnormaly_pred_RandomForest:\n",
    "    if 'Abnormal' in act:\n",
    "        duration =1000\n",
    "        freq =440 \n",
    "        i+=1\n",
    "        winsound.Beep(freq,duration)\n",
    "print('There are '+str(i)+' abnomaly detected!')"
   ]
  },
  {
   "cell_type": "code",
   "execution_count": null,
   "id": "48f3e38e",
   "metadata": {},
   "outputs": [],
   "source": []
  }
 ],
 "metadata": {
  "kernelspec": {
   "display_name": "Python 3 (ipykernel)",
   "language": "python",
   "name": "python3"
  },
  "language_info": {
   "codemirror_mode": {
    "name": "ipython",
    "version": 3
   },
   "file_extension": ".py",
   "mimetype": "text/x-python",
   "name": "python",
   "nbconvert_exporter": "python",
   "pygments_lexer": "ipython3",
   "version": "3.9.7"
  },
  "varInspector": {
   "cols": {
    "lenName": 16,
    "lenType": 16,
    "lenVar": 40
   },
   "kernels_config": {
    "python": {
     "delete_cmd_postfix": "",
     "delete_cmd_prefix": "del ",
     "library": "var_list.py",
     "varRefreshCmd": "print(var_dic_list())"
    },
    "r": {
     "delete_cmd_postfix": ") ",
     "delete_cmd_prefix": "rm(",
     "library": "var_list.r",
     "varRefreshCmd": "cat(var_dic_list()) "
    }
   },
   "types_to_exclude": [
    "module",
    "function",
    "builtin_function_or_method",
    "instance",
    "_Feature"
   ],
   "window_display": false
  }
 },
 "nbformat": 4,
 "nbformat_minor": 5
}
