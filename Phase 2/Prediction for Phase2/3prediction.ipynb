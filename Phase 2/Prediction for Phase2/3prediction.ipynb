{
 "cells": [
  {
   "cell_type": "code",
   "execution_count": 1,
   "id": "76305f5e",
   "metadata": {},
   "outputs": [],
   "source": [
    "import joblib\n",
    "import numpy as np\n",
    "import pandas as pd\n",
    "import matplotlib.pyplot as plt\n",
    "from sklearn import svm\n",
    "from sklearn.utils import shuffle\n",
    "from sklearn.decomposition import PCA\n",
    "from sklearn.tree import DecisionTreeClassifier\n",
    "from sklearn.ensemble import RandomForestClassifier\n",
    "from sklearn.neighbors import KNeighborsClassifier\n",
    "from sklearn.model_selection import train_test_split\n",
    "from sklearn.preprocessing import StandardScaler,MinMaxScaler,Normalizer\n",
    "from sklearn.metrics import accuracy_score, precision_score, recall_score, f1_score\n",
    "\n",
    "import warnings\n",
    "warnings.filterwarnings(\"ignore\")"
   ]
  },
  {
   "cell_type": "code",
   "execution_count": 2,
   "id": "03d0d2ca",
   "metadata": {},
   "outputs": [],
   "source": [
    "def split(df):\n",
    "    df[[\"Dur_hr\",\"Dur_min\",\"Dur_sec\"]] = df[\"Duration\"].str.split(':', expand=True)\n",
    "    df[[\"BeginTime_hr\",\"BeginTime_min\",\"BeginTime_sec\"]] = df[\"BeginTime\"].str.split(':', expand=True)\n",
    "    df_train = df.loc[0:411].fillna(\"\")\n",
    "    df_val = df.loc[412:].fillna(\"\")\n",
    "    y_train=df_train[['Activity']].values.ravel()\n",
    "    y_test=df_val[['Activity']].values.ravel()\n",
    "    x_train=df_train.drop(['Activity','BeginTime','Duration','Dur_sec','BeginTime_sec','BeginTime_min','Dur_min'],axis=1)\n",
    "    x_test=df_val.drop(['Activity','BeginTime','Duration','Dur_sec','BeginTime_sec','BeginTime_min','Dur_min'],axis=1)\n",
    "    return x_train,x_test,y_train,y_test\n"
   ]
  },
  {
   "cell_type": "code",
   "execution_count": 3,
   "id": "b7a91d9a",
   "metadata": {},
   "outputs": [],
   "source": [
    "def train(x_train, y_train,x_test,y_test,opt,n):\n",
    "    if opt==1:\n",
    "        print('Decision Tree:\\n')\n",
    "        clf = DecisionTreeClassifier()\n",
    "        clf.fit(x_train, y_train)\n",
    "        DecisionTreeClassifier(class_weight=None, criterion='gini', max_depth=None,\n",
    "                       max_features=None, max_leaf_nodes=None,\n",
    "                       min_impurity_decrease=0.0,\n",
    "                       min_samples_leaf=1, min_samples_split=2,\n",
    "                       min_weight_fraction_leaf=0.0,\n",
    "                       random_state=None, splitter='best')\n",
    "    if opt==2: #Final choice!\n",
    "        print('Random Forest:\\n')\n",
    "        clf = RandomForestClassifier()\n",
    "        clf.fit(x_train, y_train)\n",
    "        f, ax = plt.subplots(figsize=(15, 5))\n",
    "        if n==1:\n",
    "            ax.bar(x_train.columns,clf.feature_importances_)\n",
    "            plt.xticks(rotation=60)\n",
    "            ax.set_title(\"Feature Importances (Before PCA)\")\n",
    "        else:\n",
    "            ax.bar(range(len(clf.feature_importances_)),clf.feature_importances_)\n",
    "            ax.set_title(\"Feature Importances (After PCA)\")\n",
    "        f.show()\n",
    "    if opt==3:\n",
    "        print('SVM:\\n')\n",
    "        clf = svm.SVC(kernel='linear')\n",
    "        clf.fit(x_train, y_train)\n",
    "    if opt==4:\n",
    "        print('K Neighbors:\\n')\n",
    "        clf = KNeighborsClassifier()\n",
    "        clf.fit(x_train, y_train)\n",
    "    \n",
    "    y_pred = clf.predict(x_test)\n",
    "    c = np.count_nonzero(y_pred == y_test) \n",
    "    print(\"\\tTraining score：\", (clf.score(x_train, y_train)))\n",
    "    print(\"\\tValidation score：\", (clf.score(x_test, y_test)))   \n",
    "    print('\\tNumber of right prediction：', c,'/',len(y_pred),'.','\\n') \n",
    "    return y_pred"
   ]
  },
  {
   "cell_type": "code",
   "execution_count": 4,
   "id": "ef33f36b",
   "metadata": {},
   "outputs": [],
   "source": [
    "def PCAPredict(X, k):\n",
    "    pca=PCA(n_components=k)\n",
    "    data_reduced=pca.fit_transform(X)\n",
    "    joblib.dump(pca, './model/pca.m')\n",
    "    Variance = pca.explained_variance_ratio_\n",
    "    SValue = pca.singular_values_\n",
    "    Vcomp = pca.components_  \n",
    "    return data_reduced"
   ]
  },
  {
   "cell_type": "code",
   "execution_count": 5,
   "id": "7a9354be",
   "metadata": {},
   "outputs": [],
   "source": [
    "def Metrics(y_test, y_pred):\n",
    "    Metrics={}\n",
    "    Metrics['Recall'] = recall_score(y_test, y_pred,average='macro')\n",
    "    Metrics['Accuracy'] = accuracy_score(y_test, y_pred)\n",
    "    Metrics['precision'] = precision_score(y_test, y_pred,average='macro')\n",
    "    Metrics['F1_Score'] = f1_score(y_test, y_pred,average='macro')\n",
    "    return Metrics"
   ]
  },
  {
   "cell_type": "code",
   "execution_count": 6,
   "id": "b1b6521d",
   "metadata": {},
   "outputs": [],
   "source": [
    "def final(x_train, y_train,x_test,y_test,opt,k):\n",
    "    print('No PCA:\\n')\n",
    "    y_pred=train(x_train, y_train,x_test,y_test,opt,1)\n",
    "\n",
    "    m1=Metrics(y_test, y_pred)\n",
    "    print(m1,'\\n')\n",
    "\n",
    "    \n",
    "    X_train=PCAPredict(x_train, k)\n",
    "    pca = joblib.load('./model/pca.m')\n",
    "    X_test=pca.transform(x_test)\n",
    "    print('PCA Shape: ',X_train.shape,X_test.shape,'\\n')\n",
    "    \n",
    "    print('After PCA:\\n')\n",
    "    Y_pred=train(X_train, y_train,X_test,y_test,opt,0)\n",
    "    m2=Metrics(y_test, Y_pred)\n",
    "    print(m2,'\\n')\n",
    "    return"
   ]
  },
  {
   "cell_type": "code",
   "execution_count": 7,
   "id": "8910ea95",
   "metadata": {},
   "outputs": [
    {
     "data": {
      "text/plain": [
       "Meal_Preparation       117\n",
       "R1_Bed_to_Toilet        60\n",
       "R1_Work                 58\n",
       "R1_Personal_Hygiene     45\n",
       "R2_Work                 43\n",
       "R2_Bed_to_Toilet        39\n",
       "R2_Personal_Hygiene     39\n",
       "R1_Sleep                35\n",
       "R2_Sleep                35\n",
       "Watch_TV                31\n",
       "Study                    9\n",
       "Clean                    2\n",
       "Wash_Bathtub             1\n",
       "Name: Activity, dtype: int64"
      ]
     },
     "execution_count": 7,
     "metadata": {},
     "output_type": "execute_result"
    }
   ],
   "source": [
    "df=pd.read_csv('data2/table.csv')\n",
    "df['Activity'].value_counts()"
   ]
  },
  {
   "cell_type": "code",
   "execution_count": 8,
   "id": "aafb6ff6",
   "metadata": {},
   "outputs": [],
   "source": [
    "df=pd.read_csv('data2/table.csv')\n",
    "df=df.drop(index=df[df['Activity'].where(df['Activity']=='Study').notnull()==True].index)\n",
    "df=df.drop(index=df[df['Activity'].where(df['Activity']=='Clean').notnull()==True].index)\n",
    "df=df.drop(index=df[df['Activity'].where(df['Activity']=='Wash_Bathtub').notnull()==True].index)\n",
    "x_train,x_test,y_train,y_test = split(df)"
   ]
  },
  {
   "cell_type": "code",
   "execution_count": 9,
   "id": "1639ac24",
   "metadata": {},
   "outputs": [
    {
     "data": {
      "text/plain": [
       "Meal_Preparation       117\n",
       "R1_Bed_to_Toilet        60\n",
       "R1_Work                 58\n",
       "R1_Personal_Hygiene     45\n",
       "R2_Work                 43\n",
       "R2_Bed_to_Toilet        39\n",
       "R2_Personal_Hygiene     39\n",
       "R1_Sleep                35\n",
       "R2_Sleep                35\n",
       "Watch_TV                31\n",
       "Name: Activity, dtype: int64"
      ]
     },
     "execution_count": 9,
     "metadata": {},
     "output_type": "execute_result"
    }
   ],
   "source": [
    "df['Activity'].value_counts()"
   ]
  },
  {
   "cell_type": "code",
   "execution_count": 10,
   "id": "ae568221",
   "metadata": {},
   "outputs": [
    {
     "name": "stdout",
     "output_type": "stream",
     "text": [
      "No PCA:\n",
      "\n",
      "Decision Tree:\n",
      "\n",
      "\tTraining score： 0.9975062344139651\n",
      "\tValidation score： 0.7722772277227723\n",
      "\tNumber of right prediction： 78 / 101 . \n",
      "\n",
      "{'Recall': 0.7546296296296295, 'Accuracy': 0.7722772277227723, 'precision': 0.7395396825396825, 'F1_Score': 0.7439826942922918} \n",
      "\n",
      "PCA Shape:  (401, 43) (101, 43) \n",
      "\n",
      "After PCA:\n",
      "\n",
      "Decision Tree:\n",
      "\n",
      "\tTraining score： 0.9975062344139651\n",
      "\tValidation score： 0.6831683168316832\n",
      "\tNumber of right prediction： 69 / 101 . \n",
      "\n",
      "{'Recall': 0.6778439153439153, 'Accuracy': 0.6831683168316832, 'precision': 0.682047819330428, 'F1_Score': 0.6593562431720327} \n",
      "\n"
     ]
    }
   ],
   "source": [
    "opt=1\n",
    "final(x_train, y_train,x_test,y_test,opt,0.9999)"
   ]
  },
  {
   "cell_type": "code",
   "execution_count": 11,
   "id": "4b509fd7",
   "metadata": {},
   "outputs": [
    {
     "name": "stdout",
     "output_type": "stream",
     "text": [
      "No PCA:\n",
      "\n",
      "Random Forest:\n",
      "\n",
      "\tTraining score： 0.9975062344139651\n",
      "\tValidation score： 0.8514851485148515\n",
      "\tNumber of right prediction： 86 / 101 . \n",
      "\n",
      "{'Recall': 0.8166666666666667, 'Accuracy': 0.8514851485148515, 'precision': 0.8512959083926827, 'F1_Score': 0.8276711174487943} \n",
      "\n",
      "PCA Shape:  (401, 43) (101, 43) \n",
      "\n",
      "After PCA:\n",
      "\n",
      "Random Forest:\n",
      "\n",
      "\tTraining score： 0.9975062344139651\n",
      "\tValidation score： 0.8613861386138614\n",
      "\tNumber of right prediction： 87 / 101 . \n",
      "\n",
      "{'Recall': 0.8555555555555555, 'Accuracy': 0.8613861386138614, 'precision': 0.858451270951271, 'F1_Score': 0.8512966633194157} \n",
      "\n"
     ]
    },
    {
     "data": {
      "image/png": "[encoded data removed]",
      "text/plain": [
       "<Figure size 1080x360 with 1 Axes>"
      ]
     },
     "metadata": {
      "needs_background": "light"
     },
     "output_type": "display_data"
    },
    {
     "data": {
      "image/png": "[encoded data removed]",
      "text/plain": [
       "<Figure size 1080x360 with 1 Axes>"
      ]
     },
     "metadata": {
      "needs_background": "light"
     },
     "output_type": "display_data"
    }
   ],
   "source": [
    "opt=2\n",
    "final(x_train, y_train,x_test,y_test,opt,0.9999)"
   ]
  },
  {
   "cell_type": "code",
   "execution_count": 12,
   "id": "4091da8d",
   "metadata": {},
   "outputs": [
    {
     "name": "stdout",
     "output_type": "stream",
     "text": [
      "No PCA:\n",
      "\n",
      "SVM:\n",
      "\n",
      "\tTraining score： 0.9850374064837906\n",
      "\tValidation score： 0.7920792079207921\n",
      "\tNumber of right prediction： 80 / 101 . \n",
      "\n",
      "{'Recall': 0.77744708994709, 'Accuracy': 0.7920792079207921, 'precision': 0.7749134199134199, 'F1_Score': 0.769983660130719} \n",
      "\n",
      "PCA Shape:  (401, 43) (101, 43) \n",
      "\n",
      "After PCA:\n",
      "\n",
      "SVM:\n",
      "\n",
      "\tTraining score： 0.9875311720698254\n",
      "\tValidation score： 0.7524752475247525\n",
      "\tNumber of right prediction： 76 / 101 . \n",
      "\n",
      "{'Recall': 0.72744708994709, 'Accuracy': 0.7524752475247525, 'precision': 0.7252777777777777, 'F1_Score': 0.7184407096171801} \n",
      "\n"
     ]
    }
   ],
   "source": [
    "opt=3\n",
    "final(x_train, y_train,x_test,y_test,opt,0.9999)"
   ]
  },
  {
   "cell_type": "code",
   "execution_count": 13,
   "id": "ab0e9869",
   "metadata": {},
   "outputs": [
    {
     "name": "stdout",
     "output_type": "stream",
     "text": [
      "No PCA:\n",
      "\n",
      "K Neighbors:\n",
      "\n",
      "\tTraining score： 0.8403990024937655\n",
      "\tValidation score： 0.7722772277227723\n",
      "\tNumber of right prediction： 78 / 101 . \n",
      "\n",
      "{'Recall': 0.7450396825396826, 'Accuracy': 0.7722772277227723, 'precision': 0.7501125541125541, 'F1_Score': 0.737087912087912} \n",
      "\n",
      "PCA Shape:  (401, 43) (101, 43) \n",
      "\n",
      "After PCA:\n",
      "\n",
      "K Neighbors:\n",
      "\n",
      "\tTraining score： 0.8403990024937655\n",
      "\tValidation score： 0.7722772277227723\n",
      "\tNumber of right prediction： 78 / 101 . \n",
      "\n",
      "{'Recall': 0.7450396825396826, 'Accuracy': 0.7722772277227723, 'precision': 0.7501125541125541, 'F1_Score': 0.737087912087912} \n",
      "\n"
     ]
    }
   ],
   "source": [
    "opt=4\n",
    "final(x_train, y_train,x_test,y_test,opt,0.9999)"
   ]
  },
  {
   "cell_type": "markdown",
   "id": "cbb12a92",
   "metadata": {},
   "source": [
    "### Add Up/DownStairs"
   ]
  },
  {
   "cell_type": "code",
   "execution_count": 14,
   "id": "8707a8bd",
   "metadata": {},
   "outputs": [],
   "source": [
    "def Split(df):\n",
    "    df[[\"Dur_hr\",\"Dur_min\",\"Dur_sec\"]] = df[\"Duration\"].str.split(':', expand=True)\n",
    "    df[[\"BeginTime_hr\",\"BeginTime_min\",\"BeginTime_sec\"]] = df[\"BeginTime\"].str.split(':', expand=True)\n",
    "\n",
    "    y=df[['Activity']].values.ravel()\n",
    "    x=df.drop(['Activity','BeginTime','Duration','Dur_sec','BeginTime_sec','BeginTime_min','Dur_min'],axis=1)\n",
    "    X,Y=shuffle(x,y)\n",
    "    x_train,x_test,y_train,y_test=train_test_split(X,Y,test_size=0.2, random_state=300)\n",
    "    return x_train,x_test,y_train,y_test\n",
    "Df=pd.read_csv('./data2/table_add_ud.csv')\n",
    "x_train,x_test,y_train,y_test = Split(Df)"
   ]
  },
  {
   "cell_type": "code",
   "execution_count": 15,
   "id": "cd46f44c",
   "metadata": {},
   "outputs": [],
   "source": [
    "df=pd.read_csv('./data2/table_add_ud.csv')\n",
    "df=df.drop(index=df[df['Activity'].where(df['Activity']=='Study').notnull()==True].index)\n",
    "df=df.drop(index=df[df['Activity'].where(df['Activity']=='Clean').notnull()==True].index)\n",
    "df=df.drop(index=df[df['Activity'].where(df['Activity']=='Wash_Bathtub').notnull()==True].index)\n",
    "x_train,x_test,y_train,y_test = Split(df)"
   ]
  },
  {
   "cell_type": "code",
   "execution_count": 16,
   "id": "9dc30dd8",
   "metadata": {},
   "outputs": [
    {
     "data": {
      "text/plain": [
       "Meal_Preparation       117\n",
       "R1_Bed_to_Toilet        60\n",
       "R1_Work                 58\n",
       "up&downstairs           46\n",
       "R1_Personal_Hygiene     45\n",
       "R2_Work                 43\n",
       "R2_Bed_to_Toilet        39\n",
       "R2_Personal_Hygiene     39\n",
       "R1_Sleep                35\n",
       "R2_Sleep                35\n",
       "Watch_TV                31\n",
       "Name: Activity, dtype: int64"
      ]
     },
     "execution_count": 16,
     "metadata": {},
     "output_type": "execute_result"
    }
   ],
   "source": [
    "df['Activity'].value_counts()"
   ]
  },
  {
   "cell_type": "code",
   "execution_count": 17,
   "id": "1e801b60",
   "metadata": {},
   "outputs": [
    {
     "name": "stdout",
     "output_type": "stream",
     "text": [
      "No PCA:\n",
      "\n",
      "Decision Tree:\n",
      "\n",
      "\tTraining score： 0.997716894977169\n",
      "\tValidation score： 0.7090909090909091\n",
      "\tNumber of right prediction： 78 / 110 . \n",
      "\n",
      "{'Recall': 0.7028040141676505, 'Accuracy': 0.7090909090909091, 'precision': 0.7206675899857719, 'F1_Score': 0.6872474942354553} \n",
      "\n",
      "PCA Shape:  (438, 43) (110, 43) \n",
      "\n",
      "After PCA:\n",
      "\n",
      "Decision Tree:\n",
      "\n",
      "\tTraining score： 0.997716894977169\n",
      "\tValidation score： 0.6454545454545455\n",
      "\tNumber of right prediction： 71 / 110 . \n",
      "\n",
      "{'Recall': 0.6685261707988981, 'Accuracy': 0.6454545454545455, 'precision': 0.6884758516337464, 'F1_Score': 0.6470123871652892} \n",
      "\n"
     ]
    }
   ],
   "source": [
    "opt=1\n",
    "final(x_train, y_train,x_test,y_test,opt,0.9999)"
   ]
  },
  {
   "cell_type": "code",
   "execution_count": 18,
   "id": "e7a53a54",
   "metadata": {},
   "outputs": [
    {
     "name": "stdout",
     "output_type": "stream",
     "text": [
      "No PCA:\n",
      "\n",
      "Random Forest:\n",
      "\n",
      "\tTraining score： 0.997716894977169\n",
      "\tValidation score： 0.7909090909090909\n",
      "\tNumber of right prediction： 87 / 110 . \n",
      "\n",
      "{'Recall': 0.7645284008920373, 'Accuracy': 0.7909090909090909, 'precision': 0.82144069149998, 'F1_Score': 0.7712822394145871} \n",
      "\n",
      "PCA Shape:  (438, 43) (110, 43) \n",
      "\n",
      "After PCA:\n",
      "\n",
      "Random Forest:\n",
      "\n",
      "\tTraining score： 0.997716894977169\n",
      "\tValidation score： 0.8090909090909091\n",
      "\tNumber of right prediction： 89 / 110 . \n",
      "\n",
      "{'Recall': 0.8045749704840613, 'Accuracy': 0.8090909090909091, 'precision': 0.8424173981486235, 'F1_Score': 0.8075771037677495} \n",
      "\n"
     ]
    },
    {
     "data": {
      "image/png": "[encoded data removed]",
      "text/plain": [
       "<Figure size 1080x360 with 1 Axes>"
      ]
     },
     "metadata": {
      "needs_background": "light"
     },
     "output_type": "display_data"
    },
    {
     "data": {
      "image/png": "[encoded data removed]",
      "text/plain": [
       "<Figure size 1080x360 with 1 Axes>"
      ]
     },
     "metadata": {
      "needs_background": "light"
     },
     "output_type": "display_data"
    }
   ],
   "source": [
    "opt=2\n",
    "final(x_train, y_train,x_test,y_test,opt,0.9999)"
   ]
  },
  {
   "cell_type": "code",
   "execution_count": 19,
   "id": "6bef77e7",
   "metadata": {},
   "outputs": [
    {
     "name": "stdout",
     "output_type": "stream",
     "text": [
      "No PCA:\n",
      "\n",
      "SVM:\n",
      "\n",
      "\tTraining score： 0.9908675799086758\n",
      "\tValidation score： 0.8090909090909091\n",
      "\tNumber of right prediction： 89 / 110 . \n",
      "\n",
      "{'Recall': 0.7937131050767413, 'Accuracy': 0.8090909090909091, 'precision': 0.8351993965630328, 'F1_Score': 0.799631687590382} \n",
      "\n",
      "PCA Shape:  (438, 43) (110, 43) \n",
      "\n",
      "After PCA:\n",
      "\n",
      "SVM:\n",
      "\n",
      "\tTraining score： 0.9863013698630136\n",
      "\tValidation score： 0.8090909090909091\n",
      "\tNumber of right prediction： 89 / 110 . \n",
      "\n",
      "{'Recall': 0.7885182998819361, 'Accuracy': 0.8090909090909091, 'precision': 0.8147448511084875, 'F1_Score': 0.7956154486459134} \n",
      "\n"
     ]
    }
   ],
   "source": [
    "opt=3\n",
    "final(x_train, y_train,x_test,y_test,opt,0.9999)"
   ]
  },
  {
   "cell_type": "code",
   "execution_count": 20,
   "id": "9db4c5c9",
   "metadata": {},
   "outputs": [
    {
     "name": "stdout",
     "output_type": "stream",
     "text": [
      "No PCA:\n",
      "\n",
      "K Neighbors:\n",
      "\n",
      "\tTraining score： 0.8082191780821918\n",
      "\tValidation score： 0.8\n",
      "\tNumber of right prediction： 88 / 110 . \n",
      "\n",
      "{'Recall': 0.7838351042896498, 'Accuracy': 0.8, 'precision': 0.857608802110081, 'F1_Score': 0.7962099055893891} \n",
      "\n",
      "PCA Shape:  (438, 43) (110, 43) \n",
      "\n",
      "After PCA:\n",
      "\n",
      "K Neighbors:\n",
      "\n",
      "\tTraining score： 0.8082191780821918\n",
      "\tValidation score： 0.8\n",
      "\tNumber of right prediction： 88 / 110 . \n",
      "\n",
      "{'Recall': 0.7838351042896498, 'Accuracy': 0.8, 'precision': 0.857608802110081, 'F1_Score': 0.7962099055893891} \n",
      "\n"
     ]
    }
   ],
   "source": [
    "opt=4\n",
    "final(x_train, y_train,x_test,y_test,opt,0.9999)"
   ]
  },
  {
   "cell_type": "code",
   "execution_count": 21,
   "id": "e3443801",
   "metadata": {},
   "outputs": [],
   "source": [
    "# reset"
   ]
  },
  {
   "cell_type": "code",
   "execution_count": null,
   "id": "19e402d8",
   "metadata": {},
   "outputs": [],
   "source": []
  }
 ],
 "metadata": {
  "kernelspec": {
   "display_name": "Python 3 (ipykernel)",
   "language": "python",
   "name": "python3"
  },
  "language_info": {
   "codemirror_mode": {
    "name": "ipython",
    "version": 3
   },
   "file_extension": ".py",
   "mimetype": "text/x-python",
   "name": "python",
   "nbconvert_exporter": "python",
   "pygments_lexer": "ipython3",
   "version": "3.9.7"
  },
  "varInspector": {
   "cols": {
    "lenName": 16,
    "lenType": 16,
    "lenVar": 40
   },
   "kernels_config": {
    "python": {
     "delete_cmd_postfix": "",
     "delete_cmd_prefix": "del ",
     "library": "var_list.py",
     "varRefreshCmd": "print(var_dic_list())"
    },
    "r": {
     "delete_cmd_postfix": ") ",
     "delete_cmd_prefix": "rm(",
     "library": "var_list.r",
     "varRefreshCmd": "cat(var_dic_list()) "
    }
   },
   "types_to_exclude": [
    "module",
    "function",
    "builtin_function_or_method",
    "instance",
    "_Feature"
   ],
   "window_display": false
  }
 },
 "nbformat": 4,
 "nbformat_minor": 5
}
