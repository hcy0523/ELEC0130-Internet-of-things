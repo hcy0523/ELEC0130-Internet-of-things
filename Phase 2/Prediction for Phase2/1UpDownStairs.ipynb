{
 "cells": [
  {
   "cell_type": "code",
   "execution_count": 1,
   "id": "03a0211a",
   "metadata": {},
   "outputs": [],
   "source": [
    "import pandas as pd\n",
    "import numpy as np\n",
    "import datetime"
   ]
  },
  {
   "cell_type": "code",
   "execution_count": 2,
   "id": "af844461",
   "metadata": {},
   "outputs": [],
   "source": [
    "watch_tv=pd.read_csv('data1/watch_tv.csv')\n",
    "R1_work=pd.read_csv('data1/R1work_data1.csv')\n",
    "R1_sleep=pd.read_csv('data1/R1_sleep_data.csv')\n",
    "R1_heal=pd.read_csv('data1/R1_heal.csv')  \n",
    "Meal=pd.read_csv('data1/meal.csv')"
   ]
  },
  {
   "cell_type": "code",
   "execution_count": 3,
   "id": "e45f3384",
   "metadata": {},
   "outputs": [],
   "source": [
    "list1=[]\n",
    "list2=[]\n",
    "list3=[]\n",
    "for i in range(0,len(watch_tv)):\n",
    "    if(i%2==1):#电视结束 工作开始\n",
    "        for j in range(0,len(R1_work),2):\n",
    "            if watch_tv.loc[i]['Datetime'][0:10] ==  R1_work.loc[j]['Datetime'][0:10]:\n",
    "                hour1 = abs(datetime.datetime.strptime(R1_work.loc[j]['Datetime'],'%Y-%m-%d %H:%M:%S')-datetime.datetime.strptime(watch_tv.loc[i]['Datetime'],'%Y-%m-%d %H:%M:%S'))\n",
    "                if hour1 <= datetime.timedelta(seconds=1800) and hour1 >= datetime.timedelta(seconds=60):\n",
    "                    list1.append(watch_tv.loc[i]['Datetime'])\n",
    "                    list2.append(R1_work.loc[j]['Datetime'])\n",
    "                    list3.append(hour1)\n",
    "    if(i%2==0):#工作结束 电视开始\n",
    "        for k in range(1,len(R1_work),2):\n",
    "            if watch_tv.loc[i]['Datetime'][0:10] ==  R1_work.loc[k]['Datetime'][0:10]:\n",
    "                hour2 = abs(datetime.datetime.strptime(R1_work.loc[k]['Datetime'],'%Y-%m-%d %H:%M:%S')-datetime.datetime.strptime(watch_tv.loc[i]['Datetime'],'%Y-%m-%d %H:%M:%S'))\n",
    "                if hour2 <= datetime.timedelta(seconds=1800) and hour2 >= datetime.timedelta(seconds=60):\n",
    "                    list1.append(R1_work.loc[k]['Datetime'])\n",
    "                    list2.append(watch_tv.loc[i]['Datetime'])\n",
    "                    list3.append(hour2)"
   ]
  },
  {
   "cell_type": "code",
   "execution_count": 4,
   "id": "6dfc8105",
   "metadata": {},
   "outputs": [],
   "source": [
    "for i in range(0,len(watch_tv)):\n",
    "    if(i%2==1):#电视结束 睡觉开始\n",
    "        for j in range(0,len(R1_sleep),2):\n",
    "            if watch_tv.loc[i]['Datetime'][0:10] ==  R1_sleep.loc[j]['Datetime'][0:10]:\n",
    "                hour3 = abs(datetime.datetime.strptime(R1_sleep.loc[j]['Datetime'],'%Y-%m-%d %H:%M:%S')-datetime.datetime.strptime(watch_tv.loc[i]['Datetime'],'%Y-%m-%d %H:%M:%S'))\n",
    "                if hour3 <= datetime.timedelta(seconds=1800) and hour3 >= datetime.timedelta(seconds=60):\n",
    "                    list1.append(watch_tv.loc[i]['Datetime'])\n",
    "                    list2.append(R1_sleep.loc[j]['Datetime'])\n",
    "                    list3.append(hour3)\n",
    "    if(i%2==0):#睡觉结束 电视开始\n",
    "        for k in range(1,len(R1_sleep),2):\n",
    "            if watch_tv.loc[i]['Datetime'][0:10] ==  R1_sleep.loc[k]['Datetime'][0:10]:\n",
    "                hour4 = abs(datetime.datetime.strptime(R1_sleep.loc[k]['Datetime'],'%Y-%m-%d %H:%M:%S')-datetime.datetime.strptime(watch_tv.loc[i]['Datetime'],'%Y-%m-%d %H:%M:%S'))\n",
    "                if hour4 <= datetime.timedelta(seconds=1800) and hour4 >= datetime.timedelta(seconds=60):\n",
    "                    list1.append(R1_sleep.loc[j]['Datetime'])\n",
    "                    list2.append(watch_tv.loc[i]['Datetime'])\n",
    "                    list3.append(hour4)"
   ]
  },
  {
   "cell_type": "code",
   "execution_count": 5,
   "id": "46b740c1",
   "metadata": {},
   "outputs": [],
   "source": [
    "#洗漱结束 做饭开始\n",
    "for i in range(0,len(R1_heal)):\n",
    "    if(i%2==1):\n",
    "        for j in range(0,len(Meal),2):\n",
    "            if R1_heal.loc[i]['Datetime'][0:10] ==  Meal.loc[j]['Datetime'][0:10]:\n",
    "                t1 = datetime.datetime.strptime(Meal.loc[j]['Datetime'],'%Y-%m-%d %H:%M:%S')-datetime.datetime.strptime(R1_heal.loc[i]['Datetime'],'%Y-%m-%d %H:%M:%S')\n",
    "                if t1 <= datetime.timedelta(seconds=1800) and t1 >= datetime.timedelta(seconds=60):\n",
    "                    list1.append(R1_heal.loc[i]['Datetime'])\n",
    "                    list2.append(Meal.loc[j]['Datetime'])\n",
    "                    list3.append(t1)"
   ]
  },
  {
   "cell_type": "code",
   "execution_count": 6,
   "id": "c702669d",
   "metadata": {},
   "outputs": [],
   "source": [
    "for i in range(0,len(Meal)):\n",
    "     if(i%2==1):#做饭结束 开始工作\n",
    "        for j in range(0,len(R1_work),2):\n",
    "            if Meal.loc[i]['Datetime'][0:10] ==  R1_work.loc[j]['Datetime'][0:10]:\n",
    "                t2 = datetime.datetime.strptime(R1_work.loc[j]['Datetime'],'%Y-%m-%d %H:%M:%S')-datetime.datetime.strptime(Meal.loc[i]['Datetime'],'%Y-%m-%d %H:%M:%S')\n",
    "                if t2 <= datetime.timedelta(seconds=1800) and t2 >= datetime.timedelta(seconds=60):\n",
    "                    list1.append(Meal.loc[i]['Datetime'])\n",
    "                    list2.append(R1_work.loc[j]['Datetime'])\n",
    "                    list3.append(t2)"
   ]
  },
  {
   "cell_type": "code",
   "execution_count": 7,
   "id": "ac2d4f01",
   "metadata": {},
   "outputs": [],
   "source": [
    "for i in range(0,len(Meal)):\n",
    "    if(i%2==0):#做饭开始 工作结束\n",
    "        for j in range(1,len(R1_work),2):\n",
    "            if Meal.loc[i]['Datetime'][0:10] ==  R1_work.loc[j]['Datetime'][0:10]:\n",
    "                t3 = datetime.datetime.strptime(Meal.loc[i]['Datetime'],'%Y-%m-%d %H:%M:%S')-datetime.datetime.strptime(R1_work.loc[j]['Datetime'],'%Y-%m-%d %H:%M:%S')\n",
    "                if t3 <= datetime.timedelta(seconds=1800) and t3 >= datetime.timedelta(seconds=60):\n",
    "                    list1.append(R1_work.loc[j]['Datetime'])\n",
    "                    list2.append(Meal.loc[i]['Datetime'])\n",
    "                    list3.append(t3)"
   ]
  },
  {
   "cell_type": "code",
   "execution_count": 8,
   "id": "9abf2174",
   "metadata": {},
   "outputs": [],
   "source": [
    "name = ['start']\n",
    "test1=pd.DataFrame(columns=name,data=list1)"
   ]
  },
  {
   "cell_type": "code",
   "execution_count": 9,
   "id": "f1822512",
   "metadata": {},
   "outputs": [],
   "source": [
    "name = ['end']\n",
    "test2=pd.DataFrame(columns=name,data=list2)"
   ]
  },
  {
   "cell_type": "code",
   "execution_count": 10,
   "id": "36b1aa1a",
   "metadata": {},
   "outputs": [],
   "source": [
    "name = ['duration']\n",
    "test3=pd.DataFrame(columns=name,data=list3)"
   ]
  },
  {
   "cell_type": "code",
   "execution_count": 11,
   "id": "11b62c5c",
   "metadata": {},
   "outputs": [],
   "source": [
    "all_data_st = pd.concat([test1, test2,test3], axis=1)"
   ]
  },
  {
   "cell_type": "code",
   "execution_count": 12,
   "id": "e218d4ae",
   "metadata": {},
   "outputs": [],
   "source": [
    "all_data_st.to_csv('data2/stairsData.csv')"
   ]
  },
  {
   "cell_type": "code",
   "execution_count": null,
   "id": "a37e1978",
   "metadata": {},
   "outputs": [],
   "source": []
  }
 ],
 "metadata": {
  "kernelspec": {
   "display_name": "Python 3 (ipykernel)",
   "language": "python",
   "name": "python3"
  },
  "language_info": {
   "codemirror_mode": {
    "name": "ipython",
    "version": 3
   },
   "file_extension": ".py",
   "mimetype": "text/x-python",
   "name": "python",
   "nbconvert_exporter": "python",
   "pygments_lexer": "ipython3",
   "version": "3.9.7"
  },
  "varInspector": {
   "cols": {
    "lenName": 16,
    "lenType": 16,
    "lenVar": 40
   },
   "kernels_config": {
    "python": {
     "delete_cmd_postfix": "",
     "delete_cmd_prefix": "del ",
     "library": "var_list.py",
     "varRefreshCmd": "print(var_dic_list())"
    },
    "r": {
     "delete_cmd_postfix": ") ",
     "delete_cmd_prefix": "rm(",
     "library": "var_list.r",
     "varRefreshCmd": "cat(var_dic_list()) "
    }
   },
   "types_to_exclude": [
    "module",
    "function",
    "builtin_function_or_method",
    "instance",
    "_Feature"
   ],
   "window_display": false
  }
 },
 "nbformat": 4,
 "nbformat_minor": 5
}
